{
  "nbformat": 4,
  "nbformat_minor": 0,
  "metadata": {
    "colab": {
      "name": "Eigvalue & Eigvector.ipynb",
      "provenance": [],
      "collapsed_sections": []
    },
    "kernelspec": {
      "name": "python3",
      "display_name": "Python 3"
    },
    "language_info": {
      "name": "python"
    }
  },
  "cells": [
    {
      "cell_type": "code",
      "execution_count": null,
      "metadata": {
        "id": "rpz7hiR3J265"
      },
      "outputs": [],
      "source": [
        "import numpy as np\n",
        "import scipy.linalg as la\n",
        "\n",
        "# shifted matrix B = (A-delta*I)\n",
        "# This will return one A's eigenvals from one eigenvals of B\n",
        "def get_eigval_Shifted(eigval_B, delta):\n",
        "  return eigval_B + delta\n",
        "\n",
        "# shifted inverse matrix B = (A-delta*I)^-1\n",
        "# This will return one A's eigenvals from one eigenvals of B\n",
        "def get_eigval_Shift_inverse(eigval_B, delta):\n",
        "  return (1/eigval_B) + delta\n",
        "\n",
        "\n",
        "# C = (A^alpha + delta*B)\n",
        "# this function returns eigval of C based on eigval of A and B and delta\n",
        "def get_eigval_combined_1(eigval_A, eigval_B, delta,alpha):\n",
        "  return (eigval_A**alpha + delta*eigval_B)\n",
        "\n",
        "# C = (A + delta*B)^k\n",
        "# this function returns eigval of C based on eigval of A and B and delta\n",
        "def get_eigval_combined_1(eigval_A, eigval_B, delta,k):\n",
        "  return (eigval_A + delta*eigval_B)**k\n",
        "\n",
        "# x is the eigenvector of A\n",
        "# returns the eigenval of A associate with x\n",
        "def eigvec_to_eigval(A,x):\n",
        "  return (x.T @ A @ x) / (x.T @ x)\n",
        "\n",
        "# A must be a 1d array contains diag values\n",
        "def converge_rate(A, delta=0):\n",
        "  mag = np.sort(np.abs(A))\n",
        "  rate_npi = mag[-2]/mag[-1]\n",
        "  rate_inv = mag[0]/mag[1]\n",
        "  print(\"=== Converge rate: ===\")\n",
        "  print(\"Converge rate (Normal): \\n\\t\" + str(rate_npi))\n",
        "  print(\"Converge rate (Inverse): \\n\\t\" + str(rate_inv))\n",
        "\n",
        "  if(delta!=0):\n",
        "    diff = np.abs(A-delta)\n",
        "    indices = np.argsort(diff)\n",
        "    rate_shift = diff[indices[0]]/diff[indices[1]]\n",
        "    print(\"Converge rate (Shifted): \\n\\t\" + str(rate_shift))\n",
        "\n",
        "def get_eig_from_diag(X,D, delta = 0, norm = 2):\n",
        "  vals = D.diagonal()\n",
        "  npi = X[:,np.argmax(vals)]\n",
        "  inv = X[:,np.argmin(vals)]\n",
        "  npi /= la.norm(npi,norm)\n",
        "  inv /= la.norm(inv,norm)\n",
        "  print(\"Eigvec for Norm Power Iteration   : \\n\\t\" + str(npi))\n",
        "  print(\"Eigvec for Inversed Norm Iteration: \\n\\t\" + str(inv))\n",
        "  if(delta!=0):\n",
        "    inx = np.nanargmin(np.abs(vals-delta))\n",
        "    sinv = X[:,inx]\n",
        "    sinv /= la.norm(sinv,norm)\n",
        "    print(\"Eigvec for Shifted inv Iteration: \\n\\t\" + str(sinv))\n",
        "\n",
        "\n",
        "# This returns the biggest eigenvalue with associate eigenvector of A\n",
        "def norm_power_iteration(A: np.ndarray, tol=10**-12, iteration=0, x0=None):\n",
        "  if (type(x0)==type(None)): \n",
        "    x0 = np.random.rand(A.shape[0])\n",
        "  P,L,U = la.lu(A)\n",
        "  x_npi = np.copy(x0)/la.norm(x0,2)\n",
        "  count = 0\n",
        "  while True:\n",
        "    count += 1\n",
        "    y_npl = A @ x_npi\n",
        "    y_npl /= la.norm(y_npl,2)\n",
        "    if (la.norm(y_npl-x_npi,2)<=tol or (iteration!=0 and count>=iteration)): break\n",
        "    x_npi = y_npl\n",
        "  eigvec = x_npi\n",
        "  eigval = eigvec_to_eigval(A,x_npi)\n",
        "  return eigvec, eigval, count\n",
        "  \n",
        "# This returns the smallest eigenvalue with associate eigenvector of A\n",
        "def inverse_power_iteration(A: np.ndarray, tol=10**-12, iteration = 0, x0=None):\n",
        "  if (type(x0)==type(None)): \n",
        "    x0 = np.random.rand(A.shape[0])\n",
        "  P,L,U = la.lu(A)\n",
        "  x_inv = np.copy(x0)/la.norm(x0,2)\n",
        "  count = 0\n",
        "  # inversed\n",
        "  while True:\n",
        "    count += 1\n",
        "    y_inv = la.solve_triangular(L, np.dot(P.T,x_inv), lower=True)\n",
        "    y_inv = la.solve_triangular(U, y_inv)\n",
        "    y_inv /= la.norm(y_inv,2)\n",
        "    if (la.norm(x_inv-y_inv,2)<=tol or (iteration!=0 and count>=iteration)): break\n",
        "    x_inv = y_inv\n",
        "  eigvec = x_inv\n",
        "  eigval = eigvec_to_eigval(A,x_inv)\n",
        "  return eigvec, eigval, count\n",
        "\n",
        "# shifted matrix B = (A-delta*I)\n",
        "def shifted_inverse_power_iteration(A: np.ndarray, delta:float, tol=10**-12, iteration = 0, x0=None):\n",
        "  if (type(x0)==type(None)): \n",
        "    x0 = np.random.rand(A.shape[0])\n",
        "  B = (A-delta*np.identity(A.shape[0]))\n",
        "  P,L,U = la.lu(B)\n",
        "  x_shift = np.copy(x0)/la.norm(x0,2)\n",
        "  count = 0\n",
        "  # shifted inverse power iteration\n",
        "  while True:\n",
        "    count += 1\n",
        "    y_shift = la.solve_triangular(L, np.dot(P.T,x_shift), lower=True)\n",
        "    y_shift = la.solve_triangular(U, y_shift)\n",
        "    y_shift /= la.norm(y_shift,2)\n",
        "    if (la.norm(x_shift-y_shift,2)<=tol or (iteration!=0 and count>=iteration)): break\n",
        "    x_shift = y_shift\n",
        "  eigvec = x_shift\n",
        "  eigval = eigvec_to_eigval(A,x_shift)\n",
        "  return eigvec, eigval, count"
      ]
    },
    {
      "cell_type": "code",
      "source": [
        "# Inverse Shift Iteration\n",
        "get_eigval_Shift_inverse(0.5, 2)"
      ],
      "metadata": {
        "id": "Mv2zlQhIMjx0"
      },
      "execution_count": null,
      "outputs": []
    },
    {
      "cell_type": "code",
      "source": [
        "# Result of Normalized Power, Inverse, and Shifted Inverse Iteration\n",
        "X = np.array([[0,12,14],[17,17,18],[1,2,16]],dtype=np.float64)\n",
        "D = np.array([[9,0,0],[0,6,0],[0,0,3]],dtype=np.float64)\n",
        "A = X @ D @ la.inv(X)\n",
        "get_eig_from_diag(X,D,delta = 6.3, norm = np.inf)"
      ],
      "metadata": {
        "id": "tP8E3JhTs_rA"
      },
      "execution_count": null,
      "outputs": []
    },
    {
      "cell_type": "code",
      "source": [
        "# Choose Fastest Convergence\n",
        "A= np.array([2,11,88])\n",
        "converge_rate(A,delta=91)"
      ],
      "metadata": {
        "id": "UigC4gBU-rSF"
      },
      "execution_count": null,
      "outputs": []
    },
    {
      "cell_type": "code",
      "source": [
        "get_eigval_Shift_inverse(10, -7)"
      ],
      "metadata": {
        "id": "jpptVhNNqXLY"
      },
      "execution_count": null,
      "outputs": []
    },
    {
      "cell_type": "code",
      "source": [
        "X = np.array([3,7,13,4,19,11,12,8,2],dtype=np.float64).reshape((3,3))\n",
        "D = np.array([7,0,0,0,2,0,0,0,8],dtype=np.float64).reshape((3,3))\n",
        "\n",
        "get_eig_from_diag(X,D,norm=np.inf)\n"
      ],
      "metadata": {
        "id": "bybWBPKx6ilh"
      },
      "execution_count": null,
      "outputs": []
    },
    {
      "cell_type": "code",
      "source": [
        "X = np.array([5,0,8,0,17,6,7,9,14],dtype=np.float64).reshape((3,3))\n",
        "D = np.array([1,0,0,0,3,0,0,0,4],dtype=np.float64).reshape((3,3))\n",
        "\n",
        "get_eig_from_diag(X,D,delta=3.7,norm=1)\n"
      ],
      "metadata": {
        "id": "wlG-eYG3wiLR"
      },
      "execution_count": null,
      "outputs": []
    }
  ]
}