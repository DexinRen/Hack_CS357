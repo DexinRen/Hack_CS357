{
  "nbformat": 4,
  "nbformat_minor": 0,
  "metadata": {
    "colab": {
      "name": "Finite_Different_Method.ipynb",
      "provenance": [],
      "collapsed_sections": []
    },
    "kernelspec": {
      "name": "python3",
      "display_name": "Python 3"
    },
    "language_info": {
      "name": "python"
    }
  },
  "cells": [
    {
      "cell_type": "code",
      "source": [
        "import numpy as np\n",
        "import sympy as sp\n",
        "from typing import List\n",
        "import numpy.linalg as la\n",
        "# Finite Difference\n",
        "# method:\n",
        "#     0: Forward\n",
        "#     1: Backward\n",
        "#     2: Central\n",
        "\n",
        "\n",
        "# 1-D x, return df\n",
        "# 导数精确值\n",
        "def diff_single(f,x0:float):\n",
        "  return f.diff(x,1).subs(x,x0)\n",
        "\n",
        "# 1-D x, return df approximation (FD)\n",
        "# 导数估算值, Finite difference\n",
        "# method:\n",
        "#     0: Forward\n",
        "#     1: Backward\n",
        "#     2: Central\n",
        "def FD_single(f, x0:float, h:float,method: int):\n",
        "  if(method==0):\n",
        "    return (f.subs(x,x0+h)-f.subs(x,x0))/h\n",
        "  if(method==1):\n",
        "    return (f.subs(x,x0)-f.subs(x,x0-h))/h\n",
        "  return (f.subs(x,x0+h)-f.subs(x,x0-h))/(2*h)\n",
        "\n",
        "\n",
        "# 1-D x, return absolute error of FFD\n",
        "# Absolute error, 一维\n",
        "# method:\n",
        "#     0: Forward\n",
        "#     1: Backward\n",
        "#     2: Central\n",
        "def FD_error_abs(f, x0:float, h:float,method: int):\n",
        "  return np.abs(FD_single(f, x0, h,method)-diff_single(f,x0))\n",
        "\n",
        "# 1-D x, return relative error of FFD\n",
        "# Relative error, 一维\n",
        "# method:\n",
        "#     0: Forward\n",
        "#     1: Backward\n",
        "#     2: Central\n",
        "def FD_error_rel(f, x0:float, h:float,method: int):\n",
        "  return np.abs(FD_error_abs(f, x0, h,method)/diff_single(f,x0))\n",
        "\n",
        "\n",
        "# n-D x, return df\n",
        "# 导数精确值, n维, x:[f的symbol,按x1,x2,x3..排]\n",
        "def diff_multi(f,x0:np.ndarray, x:List[sp.core.symbol.Symbol])->np.ndarray:\n",
        "  df = []\n",
        "  for var in x:\n",
        "    df.append(f.diff(var,1))\n",
        "  for i in range(len(df)):\n",
        "    for j in range(len(x)):\n",
        "      df[i] = df[i].subs(x[j], x0[j])\n",
        "  return np.array(df)\n",
        "\n",
        "# n-D x, return df\n",
        "# 导数估算值, n维, x:[f的symbol,按x1,x2,x3..排], x0为各项xi的初始值\n",
        "# method:\n",
        "#     0: Forward\n",
        "#     1: Backward\n",
        "#     2: Central\n",
        "def FD_multi(f,x0:np.ndarray, x:List[sp.core.symbol.Symbol], h:float, method: int)->np.ndarray:\n",
        "  fx = f\n",
        "  for i in range(len(x)):\n",
        "    fx = fx.subs(x[i], x0[i])\n",
        "  f_fd = []\n",
        "  for i in range(len(x)):\n",
        "    xh0 = np.copy(x0)\n",
        "    xh1 = np.copy(x0)\n",
        "    xh0[i] += h\n",
        "    xh1[i] -= h\n",
        "\n",
        "    dfi = 0\n",
        "    dfi0 = f\n",
        "    dfi1 = f\n",
        "    for j in range(len(x0)):\n",
        "      dfi0 = dfi0.subs(x[j], xh0[j])\n",
        "      dfi1 = dfi1.subs(x[j], xh1[j])\n",
        "    if(method==0): dfi = (dfi0-fx)/h\n",
        "    elif(method==1): dfi = (fx-dfi1)/h\n",
        "    else: dfi = (dfi0-dfi1)/(2*h)\n",
        "    f_fd.append(dfi)\n",
        "  return np.array(f_fd)\n",
        "\n",
        "# n-D x, return error\n",
        "# Error, n维, x:[f的symbol,按x1,x2,x3..排], x0为各项xi的初始值\n",
        "# method:\n",
        "#     0: Forward\n",
        "#     1: Backward\n",
        "#     2: Central\n",
        "def FD_multi_Error(f,x0:np.ndarray, x:List[sp.core.symbol.Symbol], h:float, method: int)->int:\n",
        "  f_approx = FD_multi(f,x0,x,h,method)\n",
        "  df = diff_multi(f,x0,x)\n",
        "  return (la.norm(f_approx-df,np.inf))\n",
        "  \n",
        "\n",
        "print(\"======== EXAMPLE ========\")\n",
        "# x = sp.symbols('x:3')           # x: variable [x1,x2,x3]\n",
        "# x0 = np.array([1.00,1.00,1.00]) # x0 = [x1=1,x2=1,x3=1]\n",
        "# f = x[0]*x[2]+x[0]+1            # f = x1x3 + x1 + 1\n",
        "# print(FD_multi(f, x0, x,0.1,2))        # df = [2,0,1]\n",
        "print(\"======== EXP END ========\")\n",
        "\n",
        "x = sp.symbols('x:1')           \n",
        "x0 = np.array([0.6]) \n",
        "f = -1*sp.ln(x[0])         \n",
        "print(FD_multi_Error(f, x0, x,0.02,2)) "
      ],
      "metadata": {
        "colab": {
          "base_uri": "https://localhost:8080/"
        },
        "id": "zexfu11UcLoa",
        "outputId": "7e7a1e5f-3af4-4eae-d7e2-b86263b21131"
      },
      "execution_count": null,
      "outputs": [
        {
          "output_type": "stream",
          "name": "stdout",
          "text": [
            "======== EXAMPLE ========\n",
            "======== EXP END ========\n",
            "0.000617695800142037\n"
          ]
        }
      ]
    },
    {
      "cell_type": "code",
      "source": [
        "# Question 5: Finite Difference Gradient\n",
        "# Finite Different Method\n",
        "x = sp.symbols(\"x:3\")\n",
        "x0 = [1.00,1.00,1.00]\n",
        "f = (x[0]**2)*x[1]+(x[0]**2)*(x[2]**2)+x[0]*(x[1]**2)*(x[2]**2)\n",
        "# Frontward, method==0\n",
        "FD_multi(f,x0,x,0.1,0)"
      ],
      "metadata": {
        "colab": {
          "base_uri": "https://localhost:8080/"
        },
        "id": "YvDOVdaTwnOG",
        "outputId": "e2be9319-8f72-45e0-f1ac-ea09f6d1a269"
      },
      "execution_count": null,
      "outputs": [
        {
          "output_type": "execute_result",
          "data": {
            "text/plain": [
              "array([5.20000000000000, 3.10000000000000, 4.20000000000000], dtype=object)"
            ]
          },
          "metadata": {},
          "execution_count": 3
        }
      ]
    },
    {
      "cell_type": "code",
      "source": [
        "# Attempt 2\n",
        "# Question 8: Finite Difference Gradient\n",
        "# Finite Different Method\n",
        "x = sp.symbols(\"x:3\")\n",
        "x0 = [1.00,1.00,1.00]\n",
        "f = (x[1]**2)*x[0]+(x[1]**2)*(x[2])+(x[1]**2)\n",
        "# Backward, method==0\n",
        "FD_multi(f,x0,x,0.1,1)"
      ],
      "metadata": {
        "colab": {
          "base_uri": "https://localhost:8080/"
        },
        "id": "yAXxia80VT1E",
        "outputId": "e7f62051-3fed-4f38-acd4-915f79124684"
      },
      "execution_count": null,
      "outputs": [
        {
          "output_type": "execute_result",
          "data": {
            "text/plain": [
              "array([1.00000000000000, 5.70000000000000, 1.00000000000000], dtype=object)"
            ]
          },
          "metadata": {},
          "execution_count": 4
        }
      ]
    },
    {
      "cell_type": "code",
      "source": [
        "# Attempt 3\n",
        "# Question 6: Finite Difference Gradient\n",
        "# Finite Different Method\n",
        "x = sp.symbols(\"x:3\")\n",
        "x0 = [1.00,1.00,1.00]\n",
        "f = x[0]*x[1]*(x[2]**2)+2*x[1]*x[2]\n",
        "# Backward, method==0\n",
        "FD_multi(f,x0,x,0.1,2)"
      ],
      "metadata": {
        "colab": {
          "base_uri": "https://localhost:8080/"
        },
        "id": "CIYB8jYRZdhr",
        "outputId": "8e4ba2ef-1975-4031-bc56-85d2ec76a540"
      },
      "execution_count": null,
      "outputs": [
        {
          "output_type": "execute_result",
          "data": {
            "text/plain": [
              "array([1.00000000000000, 3.00000000000000, 4.00000000000000], dtype=object)"
            ]
          },
          "metadata": {},
          "execution_count": 5
        }
      ]
    },
    {
      "cell_type": "code",
      "source": [
        "x = sp.symbols(\"x:1\")\n",
        "x0 = [0.2]\n",
        "f = x[0]**2+10\n",
        "# Backward, method==0\n",
        "FD_multi(f,x0,x,0.01,0)"
      ],
      "metadata": {
        "colab": {
          "base_uri": "https://localhost:8080/"
        },
        "id": "jzxxKjWWqLAM",
        "outputId": "f65f8606-2990-41ba-93ee-cb6c531ed2eb"
      },
      "execution_count": null,
      "outputs": [
        {
          "output_type": "execute_result",
          "data": {
            "text/plain": [
              "array([0.410000000000110], dtype=object)"
            ]
          },
          "metadata": {},
          "execution_count": 8
        }
      ]
    },
    {
      "cell_type": "code",
      "source": [
        "x = sp.symbols(\"x:1\")\n",
        "x0 = [0.4]\n",
        "f = sp.exp(x[0])+10\n",
        "# Backward, method==0\n",
        "FD_multi(f,x0,x,0.06,0)"
      ],
      "metadata": {
        "colab": {
          "base_uri": "https://localhost:8080/"
        },
        "id": "H7RwqYReCpeD",
        "outputId": "0a7782d7-b21d-4897-addb-622fdfb00a56"
      },
      "execution_count": null,
      "outputs": [
        {
          "output_type": "execute_result",
          "data": {
            "text/plain": [
              "array([1.53748812255354], dtype=object)"
            ]
          },
          "metadata": {},
          "execution_count": 3
        }
      ]
    },
    {
      "cell_type": "code",
      "source": [
        "x = sp.symbols(\"x:1\")\n",
        "x0 = [0.5]\n",
        "f = x[0]**2+10\n",
        "FD_multi(f,x0,x,0.04,2)"
      ],
      "metadata": {
        "colab": {
          "base_uri": "https://localhost:8080/"
        },
        "id": "cww0ONO739nl",
        "outputId": "3938d701-a58c-4344-9bd1-ec94b78f752a"
      },
      "execution_count": null,
      "outputs": [
        {
          "output_type": "execute_result",
          "data": {
            "text/plain": [
              "array([1.00000000000000], dtype=object)"
            ]
          },
          "metadata": {},
          "execution_count": 4
        }
      ]
    }
  ]
}