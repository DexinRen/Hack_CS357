{
  "nbformat": 4,
  "nbformat_minor": 0,
  "metadata": {
    "colab": {
      "name": "Sparse_Matrix.ipynb",
      "provenance": [],
      "collapsed_sections": []
    },
    "kernelspec": {
      "name": "python3",
      "display_name": "Python 3"
    },
    "language_info": {
      "name": "python"
    }
  },
  "cells": [
    {
      "cell_type": "code",
      "execution_count": null,
      "metadata": {
        "id": "ufAX49kRYsSI"
      },
      "outputs": [],
      "source": [
        "import numpy as np\n",
        "import scipy as sci\n",
        "import scipy.sparse as sparse\n",
        "\n",
        "# Get dense matrix from CSR data\n",
        "def CSR_to_Dense(data, rowptr, col):\n",
        "  A = sparse.csr_matrix((data, col, rowptr))\n",
        "  print(A.toarray())\n",
        "  print()\n",
        "  return A.toarray()\n",
        "\n",
        "# Get dense matrix from COO data\n",
        "def COO_to_Dense(data, row, col):\n",
        "  A = sparse.coo_matrix((data, (row, col)))\n",
        "  print(A.toarray())\n",
        "  print()\n",
        "  return A.toarray()\n",
        "\n",
        "# get CSR data from matrix A\n",
        "def get_CSR(A):\n",
        "  A_CSR = sparse.csr_matrix(A)\n",
        "  data = A_CSR.data\n",
        "  rowptr = A_CSR.indptr\n",
        "  col = A_CSR.indices\n",
        "  print(\"A.data   = \"+ str(data))\n",
        "  print(\"A.col    = \"+ str(col))\n",
        "  print(\"A.rowptr = \"+ str(rowptr))\n",
        "  print()\n",
        "  return (A_CSR,data,rowptr,col)\n",
        "\n",
        "# get COO data from matrix A\n",
        "def get_COO(A):\n",
        "  A_COO = sparse.coo_matrix(A)\n",
        "  data = A_COO.data\n",
        "  row = A_COO.row\n",
        "  col = A_COO.col\n",
        "  print(\"A.data   = \"+ str(data))\n",
        "  print(\"A.col    = \"+ str(col))\n",
        "  print(\"A.row = \"+ str(row))\n",
        "  print()\n",
        "  return (A_COO,data,row,col)\n",
        "\n",
        "# get the size of CSR or COO matrix\n",
        "def get_storage(data_size, col_size, row_size, data_num, col_num, row_num):\n",
        "  return data_size*data_num + col_size*col_num + row_size*row_num\n",
        "\n",
        "# the matrix's shape is in (m,n)\n",
        "# m = num of row, n = num of col\n",
        "# dense_size is the storage size for one entry in dense matrix\n",
        "def CSR_vs_dense(m,n,dense_size,CSR_col_size,CSR_row_size,CSR_data_size):\n",
        "  total = m * n\n",
        "  largest = 0\n",
        "  dense_mem = total * dense_size\n",
        "  for i in range(total+1):\n",
        "    CSR_mem = CSR_row_size * (n + 1)\n",
        "    CSR_mem += (i * (CSR_col_size + CSR_data_size))\n",
        "    if(CSR_mem>=dense_mem):\n",
        "      largest = i - 1\n",
        "      break\n",
        "  return largest"
      ]
    },
    {
      "cell_type": "code",
      "source": [
        "# Construct a Matrix from CSR Format\n",
        "data = [.30,.20,.80,.50,.90,.80,.80,.60]\n",
        "row = [0,3,5,6,8]\n",
        "col = [0,2,3,0,2,3,1,2]\n",
        "A = CSR_to_Dense(data, row, col)\n",
        "A_CSR = get_CSR(A)"
      ],
      "metadata": {
        "colab": {
          "base_uri": "https://localhost:8080/"
        },
        "id": "1155v2TKaVcz",
        "outputId": "e20f729c-3ff7-4ef6-c099-a21a3fbd8615"
      },
      "execution_count": null,
      "outputs": [
        {
          "output_type": "stream",
          "name": "stdout",
          "text": [
            "[[0.3 0.  0.2 0.8]\n",
            " [0.5 0.  0.9 0. ]\n",
            " [0.  0.  0.  0.8]\n",
            " [0.  0.8 0.6 0. ]]\n",
            "\n",
            "A.data   = [0.3 0.2 0.8 0.5 0.9 0.8 0.8 0.6]\n",
            "A.col    = [0 2 3 0 2 3 1 2]\n",
            "A.rowptr = [0 3 5 6 8]\n",
            "\n"
          ]
        }
      ]
    },
    {
      "cell_type": "code",
      "source": [
        "# CSR vs Dense format\n",
        "CSR_vs_dense(130,130,4,4,4,4)"
      ],
      "metadata": {
        "colab": {
          "base_uri": "https://localhost:8080/"
        },
        "id": "jpfNET-HiAhI",
        "outputId": "f836f434-53c8-4e96-d9a0-b8899ec5b2f6"
      },
      "execution_count": null,
      "outputs": [
        {
          "output_type": "execute_result",
          "data": {
            "text/plain": [
              "8384"
            ]
          },
          "metadata": {},
          "execution_count": 4
        }
      ]
    },
    {
      "cell_type": "code",
      "source": [
        "data = np.array([.70,.40,.10,.70,.90,.60,.60,.60])\n",
        "row = np.array([2,2,1,1,0,0,3,3])\n",
        "col = np.array([2,1,0,1,0,2,2,3])\n",
        "\n",
        "COO_to_Dense(data, row, col)"
      ],
      "metadata": {
        "colab": {
          "base_uri": "https://localhost:8080/"
        },
        "id": "BAWxevBR4XTL",
        "outputId": "812dad70-590c-43a6-89b3-ebf57bdfb64c"
      },
      "execution_count": null,
      "outputs": [
        {
          "output_type": "stream",
          "name": "stdout",
          "text": [
            "[[0.9 0.  0.6 0. ]\n",
            " [0.1 0.7 0.  0. ]\n",
            " [0.  0.4 0.7 0. ]\n",
            " [0.  0.  0.6 0.6]]\n",
            "\n"
          ]
        },
        {
          "output_type": "execute_result",
          "data": {
            "text/plain": [
              "array([[0.9, 0. , 0.6, 0. ],\n",
              "       [0.1, 0.7, 0. , 0. ],\n",
              "       [0. , 0.4, 0.7, 0. ],\n",
              "       [0. , 0. , 0.6, 0.6]])"
            ]
          },
          "metadata": {},
          "execution_count": 8
        }
      ]
    },
    {
      "cell_type": "code",
      "source": [
        "A = sparse.coo_matrix([[1,2],[3,4]])\n",
        "B = [[1,1],[0,1]]\n",
        "A @ B"
      ],
      "metadata": {
        "colab": {
          "base_uri": "https://localhost:8080/"
        },
        "id": "ywM8ItQjDxX8",
        "outputId": "4f767e9c-00d5-4f26-fcba-17bc2635c084"
      },
      "execution_count": null,
      "outputs": [
        {
          "output_type": "execute_result",
          "data": {
            "text/plain": [
              "array([[1, 3],\n",
              "       [3, 7]], dtype=int64)"
            ]
          },
          "metadata": {},
          "execution_count": 7
        }
      ]
    }
  ]
}