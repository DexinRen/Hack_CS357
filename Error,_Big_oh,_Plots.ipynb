{
  "nbformat": 4,
  "nbformat_minor": 0,
  "metadata": {
    "colab": {
      "name": "Error, Big_oh, Plots.ipynb",
      "provenance": []
    },
    "kernelspec": {
      "name": "python3",
      "display_name": "Python 3"
    },
    "language_info": {
      "name": "python"
    }
  },
  "cells": [
    {
      "cell_type": "code",
      "execution_count": null,
      "metadata": {
        "id": "dWket4J7FT8H"
      },
      "outputs": [],
      "source": [
        "# Get error after given iterations\n",
        "# Get number of iteration for reaching an given error bound\n",
        "def error_prediction(ratio:float, error_0:float, bound: float=10**-10, iteration=-1):\n",
        "  num = 0\n",
        "  error = error_0\n",
        "  while(error>bound):\n",
        "    num += 1\n",
        "    error *= ratio\n",
        "    if(iteration!=-1 and num<iteration):\n",
        "      print(\"error after \"+str(iteraton) + \"iteratons is: \"+ str(error))\n",
        "      return (error, num)\n",
        "  print(\"Error <= Bound after \"+str(num) + \" iteratons\")\n",
        "  return (error, num)\n"
      ]
    },
    {
      "cell_type": "code",
      "source": [
        "# Error prediction\n",
        "error_prediction(0.6, 0.7, 10**-4, iteration=-1)"
      ],
      "metadata": {
        "colab": {
          "base_uri": "https://localhost:8080/"
        },
        "id": "vvVp3v7IHDLA",
        "outputId": "3a188699-98e8-447b-fa13-2fb862741224"
      },
      "execution_count": null,
      "outputs": [
        {
          "output_type": "stream",
          "name": "stdout",
          "text": [
            "Error <= Bound after 18 iteratons\n"
          ]
        },
        {
          "output_type": "execute_result",
          "data": {
            "text/plain": [
              "(7.109196966789115e-05, 18)"
            ]
          },
          "metadata": {},
          "execution_count": 5
        }
      ]
    },
    {
      "cell_type": "code",
      "source": [
        "error_prediction(0.6, 0.7, 10**-3, iteration=-1)"
      ],
      "metadata": {
        "colab": {
          "base_uri": "https://localhost:8080/"
        },
        "id": "Tvg0pfc59J9T",
        "outputId": "1af6690c-eb0f-4a2e-9a1d-603e1a89a002"
      },
      "execution_count": null,
      "outputs": [
        {
          "output_type": "stream",
          "name": "stdout",
          "text": [
            "Error <= Bound after 13 iteratons\n"
          ]
        },
        {
          "output_type": "execute_result",
          "data": {
            "text/plain": [
              "(0.0009142485811199996, 13)"
            ]
          },
          "metadata": {},
          "execution_count": 2
        }
      ]
    }
  ]
}