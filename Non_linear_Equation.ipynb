{
  "nbformat": 4,
  "nbformat_minor": 0,
  "metadata": {
    "colab": {
      "name": "Non-linear_Equation.ipynb",
      "provenance": [],
      "collapsed_sections": []
    },
    "kernelspec": {
      "name": "python3",
      "display_name": "Python 3"
    },
    "language_info": {
      "name": "python"
    }
  },
  "cells": [
    {
      "cell_type": "code",
      "source": [
        "import numpy as np\n",
        "import numpy.linalg as la\n",
        "import sympy as sp\n",
        "from typing import List"
      ],
      "metadata": {
        "id": "pyrHvbwCZUHb"
      },
      "execution_count": null,
      "outputs": []
    },
    {
      "cell_type": "code",
      "execution_count": null,
      "metadata": {
        "id": "CocR1_tRMpXJ"
      },
      "outputs": [],
      "source": [
        "# General Functions\n",
        "\n",
        "# value of f(x) when x = x0\n",
        "def fx(f,x0:np.ndarray,x:List[sp.core.symbol.Symbol])->float:\n",
        "  value = f\n",
        "  for i in range(len(x)):\n",
        "    value = value.subs(x[i], x0[i])\n",
        "  return float(value)\n",
        "\n",
        "# value of f(x) when x = x0, ND\n",
        "def fx_multi(fs:np.ndarray,x0:np.ndarray,x:List[sp.core.symbol.Symbol])->np.ndarray:\n",
        "  value = np.zeros(fs.shape)\n",
        "  for i in range(len(value)):\n",
        "    temp = fs[i]\n",
        "    for j in range(len(x)):\n",
        "      temp = temp.subs(x[j], x0[j])\n",
        "    value[i] = float(temp)\n",
        "  return value\n",
        "\n",
        "# n-D x, return df\n",
        "# 导数精确值, n维, x:[f的symbol,按x1,x2,x3..排]\n",
        "def diff_multi(f,x0:np.ndarray, x:List[sp.core.symbol.Symbol])->np.ndarray:\n",
        "  df = []\n",
        "  for var in x:\n",
        "    df.append(f.diff(var,1))\n",
        "  for i in range(len(df)):\n",
        "    for j in range(len(x)):\n",
        "      df[i] = df[i].subs(x[j], x0[j])\n",
        "  return np.array(df)\n",
        "\n",
        "# Return the jacob matrix (not solved yet)\n",
        "def get_jacob(fs: np.ndarray, x:List[sp.core.symbol.Symbol])->np.ndarray:\n",
        "  n = m = fs.shape[0]\n",
        "  jacob = []\n",
        "  for i in range(n):\n",
        "    jacob.append([])\n",
        "    for j in range(m):\n",
        "      jacob[i].append(fs[i].diff(x[j],1))\n",
        "  return np.array(jacob) \n",
        "\n",
        "# Solve the given jacob matrix Jacob(x)\n",
        "def solve_jacob(jacob:np.ndarray, x0:np.ndarray, x:List[sp.core.symbol.Symbol])->np.ndarray:\n",
        "  n,m = jacob.shape\n",
        "  result = np.zeros((n,m))\n",
        "  for i in range(n):\n",
        "    for j in range(m):\n",
        "      expr = jacob[i][j]\n",
        "      for k in range(len(x)):\n",
        "        expr = expr.subs(x[k],x0[k])\n",
        "      result[i][j] = expr\n",
        "  return result\n"
      ]
    },
    {
      "cell_type": "code",
      "source": [
        "# Bisection\n",
        "\n",
        "# Find the length of the interval after given iteration\n",
        "# Use this only when no function was given!\n",
        "def length_after_iteration(a:float, b:float, iteration:int)->int:\n",
        "  return np.abs(a-b)/(2**iteration)\n",
        "\n",
        "# Use bisection to find the root of the given function\n",
        "def Bisection_single(f, a:float, b:float, tol:float, iteration=-1)->list:\n",
        "  num = 0\n",
        "  fa = fx(f, np.array([a]),x)\n",
        "  fb = fx(f, np.array([b]),x)\n",
        "  m = (a+b)/2\n",
        "\n",
        "  while((np.abs(b-a)>tol and tol!=-1) or (tol==-1 and iteration>num)):\n",
        "    fa = fx(f, np.array([a]),x)\n",
        "    fb = fx(f, np.array([b]),x)\n",
        "    m = (a+b)/2\n",
        "    fm = fx(f, np.array([m]),x)\n",
        "    if(fm*fa>0):\n",
        "      a = m\n",
        "    elif(fm*fb>0):\n",
        "      b = m\n",
        "    else:\n",
        "      return None\n",
        "    num += 1\n",
        "  return [a,b,\"Interval length = \"+str((a+b)/2), num]\n"
      ],
      "metadata": {
        "id": "ry6MAi4LZTFf"
      },
      "execution_count": null,
      "outputs": []
    },
    {
      "cell_type": "code",
      "source": [
        "# Secant method\n",
        "def Secant(f,x0:float, x1:float, x:List[sp.core.symbol.Symbol], tol: float, iteration=-1)->list:\n",
        "  num = 0\n",
        "  xk0 = np.copy(x0)\n",
        "  xk1 = np.copy(x1)\n",
        "  xk2 = 0\n",
        "  while((np.abs(fx(f,np.array([xk2]),x))>tol and tol!=-1) or (tol==-1 and iteration>num)):\n",
        "    f_xk1 = fx(f,np.array([xk1]),x)\n",
        "    f_xk0 = fx(f,np.array([xk0]),x)\n",
        "    slope = (f_xk1-f_xk0)/(xk1-xk0)\n",
        "    xk2 = xk1 - (f_xk1/slope)\n",
        "    xk0 = xk1\n",
        "    xk1 = xk2\n",
        "    num += 1\n",
        "  return [xk2, num]\n"
      ],
      "metadata": {
        "id": "TGDRmuJ-APH3"
      },
      "execution_count": null,
      "outputs": []
    },
    {
      "cell_type": "code",
      "source": [
        "# Newton's method\n",
        "\n",
        "# ND Newton's method\n",
        "def Newton_multi(fs:np.ndarray,x0:np.ndarray, x:List[sp.core.symbol.Symbol], tol: float, iteration=-1)->list:\n",
        "  J = get_jacob(fs,x)\n",
        "  xi = np.copy(x0)\n",
        "  num = 0\n",
        "  while True:\n",
        "    Jxi = solve_jacob(J,xi,x)\n",
        "    fxi = fx_multi(fs,xi,x).T \n",
        "    s = la.solve(Jxi, -1*fxi)\n",
        "    xi = xi + s\n",
        "    num += 1\n",
        "    if((la.norm(s,np.inf)<=tol) or (iteration!=-1 and (num>=iteration))): break\n",
        "  return [xi, num] # num = number of iterations\n",
        "\n",
        "# 1D. Newton's method\n",
        "def Newton_single(f,x0:np.ndarray, x:List[sp.core.symbol.Symbol], tol: float, iteration=-1)->list:\n",
        "  num = 0\n",
        "  xk = np.copy(x0)\n",
        "  fxk = fx(f,xk,x)\n",
        "  while((np.abs(fxk)>tol and tol!=-1) or (tol==-1 and iteration>num)):\n",
        "    num += 1\n",
        "    h = -1*fxk/diff_multi(f,xk,x)\n",
        "    xk = xk+h\n",
        "    fxk = fx(f,xk,x)\n",
        "  return [xk, num] # num = number of iterations\n"
      ],
      "metadata": {
        "id": "A6nA1IR9qkE2"
      },
      "execution_count": null,
      "outputs": []
    },
    {
      "cell_type": "code",
      "source": [
        "# Perform Two Steps of Newton's Method\n",
        "# Non-linear_Equation (Find Root)\n",
        "x = sp.symbols(\"x:1\")\n",
        "x0 = np.array([0])\n",
        "f = x[0]**3 - 4*x[0] + 8\n",
        "print(Newton_single(f,x0,x,tol=-1,iteration=1))\n",
        "print(Newton_single(f,x0,x,tol=-1,iteration=2))"
      ],
      "metadata": {
        "colab": {
          "base_uri": "https://localhost:8080/"
        },
        "id": "nz7y24v4tK17",
        "outputId": "74f5219d-4191-42fc-c2dc-882ef5e18bb7"
      },
      "execution_count": null,
      "outputs": [
        {
          "output_type": "stream",
          "name": "stdout",
          "text": [
            "[array([2.00000000000000], dtype=object), 1]\n",
            "[array([1.00000000000000], dtype=object), 2]\n"
          ]
        }
      ]
    },
    {
      "cell_type": "code",
      "source": [
        "# Newton Solve\n",
        "# Non-linear_Equation\n",
        "x = sp.symbols(\"x:2\")\n",
        "x0 = [-2.0,0.0]\n",
        "f_1 = np.array([[1,0,-2,-1,-1,2],[0,-3,3,-3,-2,-3]])\n",
        "f_2 = np.array([[x[0]**2],[x[0]],[1],[x[1]**2],[x[1]],[x[0]*x[1]]])\n",
        "fs = f_1 @ f_2\n",
        "fs = fs.flatten()\n",
        "jacob = get_jacob(fs,x)\n",
        "print(solve_jacob(jacob,x0,x))\n",
        "print(Newton_multi(fs,x0,x,tol=10**-8,iteration=1))"
      ],
      "metadata": {
        "colab": {
          "base_uri": "https://localhost:8080/"
        },
        "id": "sMO5FP-S0fZd",
        "outputId": "d8e7c73a-de11-43c6-8614-276c074845c9"
      },
      "execution_count": null,
      "outputs": [
        {
          "output_type": "stream",
          "name": "stdout",
          "text": [
            "[[-4. -5.]\n",
            " [-3.  4.]]\n",
            "[array([-0.29032258, -0.96774194]), 1]\n"
          ]
        }
      ]
    },
    {
      "cell_type": "code",
      "source": [
        "# Determine the length of the interval\n",
        "x = sp.symbols(\"x:1\")\n",
        "f = (x[0]-2)**2\n",
        "Bisection_single(f, -12, 12, tol=-1, iteration=4)"
      ],
      "metadata": {
        "colab": {
          "base_uri": "https://localhost:8080/"
        },
        "id": "1en4Ao1YPQW4",
        "outputId": "4cd451ca-66bb-4469-b29b-f9a4906f96e0"
      },
      "execution_count": null,
      "outputs": [
        {
          "output_type": "execute_result",
          "data": {
            "text/plain": [
              "[10.5, 12, 'Interval length = 11.25', 4]"
            ]
          },
          "metadata": {},
          "execution_count": 10
        }
      ]
    },
    {
      "cell_type": "code",
      "source": [
        "# NewtonSolve\n",
        "# Non-linear_Equation\n",
        "x = sp.symbols(\"x:2\")\n",
        "x0 = [-1.0,0.0]\n",
        "fs = np.array([[4*x[0]**2+5*x[1]**3-6],[2*x[0]**4+3*x[1]-5]])\n",
        "fs = fs.flatten()\n",
        "jacob = get_jacob(fs,x)\n",
        "print(solve_jacob(jacob,x0,x))\n",
        "print(Newton_multi(fs,x0,x,tol=10**-8,iteration=1))"
      ],
      "metadata": {
        "colab": {
          "base_uri": "https://localhost:8080/"
        },
        "id": "KFE22osmQMTw",
        "outputId": "1b47aff1-9cb6-489e-9ffb-e216e04e626e"
      },
      "execution_count": null,
      "outputs": [
        {
          "output_type": "stream",
          "name": "stdout",
          "text": [
            "[[-8.  0.]\n",
            " [-8.  3.]]\n",
            "[array([-1.25      ,  0.33333333]), 1]\n"
          ]
        }
      ]
    },
    {
      "cell_type": "code",
      "source": [
        "# Newton Solve 2\n",
        "# Non-linear_Equation\n",
        "x = sp.symbols(\"x:2\")\n",
        "x0 = [1,-2]\n",
        "fs = np.array([[4*x[0]*x[1]],[x[0]**3+x[1]**2-5]])\n",
        "fs = fs.flatten()\n",
        "jacob = get_jacob(fs,x)\n",
        "print(solve_jacob(jacob,x0,x))\n",
        "print(Newton_multi(fs,x0,x,tol=10**-8,iteration=1))"
      ],
      "metadata": {
        "colab": {
          "base_uri": "https://localhost:8080/"
        },
        "id": "K3LcnVKJXWkk",
        "outputId": "a2296693-c520-4cb5-88e5-b4ff6c2133d5"
      },
      "execution_count": null,
      "outputs": [
        {
          "output_type": "stream",
          "name": "stdout",
          "text": [
            "[[-8.  4.]\n",
            " [ 3. -4.]]\n",
            "[array([-0.6, -3.2]), 1]\n"
          ]
        }
      ]
    },
    {
      "cell_type": "code",
      "source": [
        "# Determine the length of the interval\n",
        "x = sp.symbols(\"x:1\")\n",
        "f = (x[0]-4)**3\n",
        "Bisection_single(f, -11, 8, tol=-1, iteration=4)"
      ],
      "metadata": {
        "colab": {
          "base_uri": "https://localhost:8080/"
        },
        "id": "rrZb__NQZC5V",
        "outputId": "68ef63fc-b726-4f3b-d575-f5ebf4270018"
      },
      "execution_count": null,
      "outputs": [
        {
          "output_type": "execute_result",
          "data": {
            "text/plain": [
              "[3.25, 4.4375, 'Interval length = 3.84375', 4]"
            ]
          },
          "metadata": {},
          "execution_count": 13
        }
      ]
    },
    {
      "cell_type": "code",
      "source": [
        "# Newton's Method\n",
        "x = sp.symbols(\"x:3\")\n",
        "fs = np.array([16*x[0]**4+16*x[1]**4+x[2]**4-16, x[0]**2+x[1]**2+x[2]**2-3, x[0]**3-x[1]])\n",
        "get_jacob(fs, x)"
      ],
      "metadata": {
        "colab": {
          "base_uri": "https://localhost:8080/"
        },
        "id": "-8hL3gtMb5h9",
        "outputId": "de82e06a-e798-4674-fa73-9bc627a41a11"
      },
      "execution_count": null,
      "outputs": [
        {
          "output_type": "execute_result",
          "data": {
            "text/plain": [
              "array([[64*x0**3, 64*x1**3, 4*x2**3],\n",
              "       [2*x0, 2*x1, 2*x2],\n",
              "       [3*x0**2, -1, 0]], dtype=object)"
            ]
          },
          "metadata": {},
          "execution_count": 14
        }
      ]
    },
    {
      "cell_type": "code",
      "source": [
        "x = sp.symbols(\"x:2\")\n",
        "fs = np.array([x[0]**2+x[1]**2-1, x[0]**2-x[1]])\n",
        "get_jacob(fs, x)"
      ],
      "metadata": {
        "colab": {
          "base_uri": "https://localhost:8080/"
        },
        "id": "TQjpZIIjhGgb",
        "outputId": "5a3f5953-032c-42d3-c0d9-c6015ae4b308"
      },
      "execution_count": null,
      "outputs": [
        {
          "output_type": "execute_result",
          "data": {
            "text/plain": [
              "array([[2*x0, 2*x1],\n",
              "       [2*x0, -1]], dtype=object)"
            ]
          },
          "metadata": {},
          "execution_count": 15
        }
      ]
    },
    {
      "cell_type": "code",
      "source": [
        "x = sp.symbols(\"x:1\")\n",
        "x0 = [0]\n",
        "f = x[0]**3-2*x[0]-2\n",
        "a = Newton_single(f,x0,x,-1, iteration = 2)\n",
        "print(a)"
      ],
      "metadata": {
        "colab": {
          "base_uri": "https://localhost:8080/"
        },
        "id": "tXSmdEl3oYL6",
        "outputId": "16c8edac-c74f-48eb-dd92-ab49d541968b"
      },
      "execution_count": null,
      "outputs": [
        {
          "output_type": "stream",
          "name": "stdout",
          "text": [
            "[array([0], dtype=object), 2]\n"
          ]
        }
      ]
    },
    {
      "cell_type": "code",
      "source": [
        "x = sp.symbols(\"x:2\")\n",
        "x0 = [-2.0,0.0]\n",
        "f_1 = np.array([[1,0,1,2,1,-3],[1,2,0,-1,0,2]])\n",
        "f_2 = np.array([[x[0]**2],[x[0]],[1],[x[1]**2],[x[1]],[x[0]*x[1]]])\n",
        "fs = f_1 @ f_2\n",
        "fs = fs.flatten()\n",
        "jacob = get_jacob(fs,x)\n",
        "print(solve_jacob(jacob,x0,x))\n",
        "print(Newton_multi(fs,x0,x,tol=10**-8,iteration=1))"
      ],
      "metadata": {
        "colab": {
          "base_uri": "https://localhost:8080/"
        },
        "id": "7WY_wswfr1nI",
        "outputId": "5f2d07af-228b-4070-a332-72f566577666"
      },
      "execution_count": null,
      "outputs": [
        {
          "output_type": "stream",
          "name": "stdout",
          "text": [
            "[[-4.  7.]\n",
            " [-2. -4.]]\n",
            "[array([-1.33333333, -0.33333333]), 1]\n"
          ]
        }
      ]
    },
    {
      "cell_type": "code",
      "source": [
        "x = sp.symbols(\"x:2\")\n",
        "fs = np.array([x[0]+6, 2*x[0]**3+x[1]-5])\n",
        "x0 = np.array([-1,0])\n",
        "\n",
        "jacob = get_jacob(fs,x)\n",
        "Newton_multi(fs,x0,x,tol=10**-12,iteration=1)"
      ],
      "metadata": {
        "colab": {
          "base_uri": "https://localhost:8080/"
        },
        "id": "_NP3c_rWuBLf",
        "outputId": "4d836379-3de9-4b14-c460-e4642c6a64b1"
      },
      "execution_count": null,
      "outputs": [
        {
          "output_type": "execute_result",
          "data": {
            "text/plain": [
              "[array([-6., 37.]), 1]"
            ]
          },
          "metadata": {},
          "execution_count": 9
        }
      ]
    }
  ]
}