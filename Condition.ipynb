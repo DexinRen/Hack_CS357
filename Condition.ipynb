{
  "nbformat": 4,
  "nbformat_minor": 0,
  "metadata": {
    "colab": {
      "name": "Condition.ipynb",
      "provenance": [],
      "collapsed_sections": []
    },
    "kernelspec": {
      "name": "python3",
      "display_name": "Python 3"
    },
    "language_info": {
      "name": "python"
    }
  },
  "cells": [
    {
      "cell_type": "code",
      "execution_count": null,
      "metadata": {
        "id": "OzInl5JDOAeI"
      },
      "outputs": [],
      "source": [
        "import numpy as np\n",
        "import numpy.linalg as la\n",
        "\n",
        "# In Ax = b\n",
        "errorx = 10**-4 cond_A = 1000\n",
        "# error_x <= cond_A * error_b\n",
        "# error_b = ||b-A*x_approx||/||b||\n",
        "# error_x = ||x-x_approx||/||x||\n",
        "def get_cond_by_error(error_b,error_x):\n",
        "  cond_A = error_x / error_b\n",
        "  return cond_A\n",
        "\n",
        "# get th number of meaningful digits in x\n",
        "def get_accuracy(A,b, x = None):\n",
        "  if(type(x)!=type(None)):\n",
        "    x = la.solve(A,b)\n",
        "  r = b - np.dot(A,x)\n",
        "  cond_A = la.cond(A)\n",
        "  w = ((np.log(cond_A) / np.log(10)))\n",
        "  r_err = (la.norm(r,2)/(la.norm(A,2)*la.norm(x,2)))\n",
        "  s = ((np.log(r_err) / np.log(10)))*(-1)\n",
        "  correct_digits = (int)(s-w)\n",
        "  #if((s-w)-correct_digits>0.5):\n",
        "  #    correct_digits += 1\n",
        "  correct_digits -= 1\n",
        "  print(\"Correct digits: \"+ str(correct_digits))\n",
        "  print(\"Error_x       : 10^(-1*\"+str(s-w)+\") = \" + str(10**(-1*(s-w))))\n",
        "\n",
        "def get_accuracy_by_error(error_b, cond_A):\n",
        "  w = ((np.log(cond_A) / np.log(10)))\n",
        "  s = ((np.log(error_b) / np.log(10)))*(-1)\n",
        "  correct_digits = (int)(s-w)\n",
        "  correct_digits -= 1\n",
        "  print(\"Correct digits: \"+ str(correct_digits))\n",
        "  print(\"Error_x       : 10^(-1*\"+str(s-w)+\") = \" + str(10**(-1*(s-w))))\n",
        "    "
      ]
    },
    {
      "cell_type": "code",
      "source": [
        "# Estimate Condition Number\n",
        "get_cond_by_error(10**-5,0.04)"
      ],
      "metadata": {
        "colab": {
          "base_uri": "https://localhost:8080/"
        },
        "id": "qjhmkO6lPxND",
        "outputId": "c145e0ef-0194-4460-f5e3-3d697301f99f"
      },
      "execution_count": null,
      "outputs": [
        {
          "output_type": "execute_result",
          "data": {
            "text/plain": [
              "3999.9999999999995"
            ]
          },
          "metadata": {},
          "execution_count": 3
        }
      ]
    },
    {
      "cell_type": "code",
      "source": [
        "# Bound on Relative Error\n",
        "error_b = 10**-5\n",
        "cond_A  = 2000.0\n",
        "\n",
        "get_accuracy_by_error(error_b, cond_A)"
      ],
      "metadata": {
        "colab": {
          "base_uri": "https://localhost:8080/"
        },
        "id": "tyWHO6lOzHT-",
        "outputId": "4b69da09-e733-4c23-c206-968d0770401e"
      },
      "execution_count": null,
      "outputs": [
        {
          "output_type": "stream",
          "name": "stdout",
          "text": [
            "Correct digits: 0\n",
            "Error_x       : 10^(-1*1.6989700043360192) = 0.019999999999999983\n"
          ]
        }
      ]
    }
  ]
}