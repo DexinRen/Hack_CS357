{
  "nbformat": 4,
  "nbformat_minor": 0,
  "metadata": {
    "colab": {
      "name": "Optimization.ipynb",
      "provenance": [],
      "collapsed_sections": []
    },
    "kernelspec": {
      "name": "python3",
      "display_name": "Python 3"
    },
    "language_info": {
      "name": "python"
    }
  },
  "cells": [
    {
      "cell_type": "code",
      "execution_count": null,
      "metadata": {
        "id": "s7RJSoh2N8fx"
      },
      "outputs": [],
      "source": [
        "import numpy as np\n",
        "import sympy as sp\n",
        "from typing import List\n",
        "import numpy.linalg as la\n",
        "import scipy.optimize as opt"
      ]
    },
    {
      "cell_type": "code",
      "source": [
        "# Golden Section Search 1D\n",
        "def golden_single(f,x:List[sp.core.symbol.Symbol],a:float,b:float,tol=0,tau=(np.sqrt(5) - 1)/2, iteration=-1):\n",
        "  h = (b-a)\n",
        "  x1 = a + ((1-tau)*h)\n",
        "  x2 = a + (tau*h)\n",
        "  f1 = f.subs(x[0],x1)\n",
        "  f2 = f.subs(x[0],x2)\n",
        "  num = 0\n",
        "  while (h>=tol or (tol==0 and iteration!=-1)):\n",
        "    h = tau*h\n",
        "    if (f1<f2):\n",
        "      b = x2\n",
        "      x2 = x1\n",
        "      f2 = f1\n",
        "      x1 = a+((1-tau)*h)\n",
        "      f1 = f.subs(x[0],x1)\n",
        "    else:\n",
        "      a = x1\n",
        "      x1 = x2\n",
        "      f1 = f2\n",
        "      x2 = a + tau*h\n",
        "      f2 = f.subs(x[0],x2)\n",
        "    num += 1\n",
        "    if(iteration!=-1 and num>=iteration): break\n",
        "  return (a,b)\n",
        "\n",
        "# calculate the interval length after given number of iteration\n",
        "def get_interval_len(a:float,b:float,iteration:int, tau=(np.sqrt(5) - 1)/2):\n",
        "  return (tau**iteration)*(b-a)\n"
      ],
      "metadata": {
        "id": "NyTgwwZ-WsNk"
      },
      "execution_count": null,
      "outputs": []
    },
    {
      "cell_type": "code",
      "source": [
        "# 1D Newton's method optimization\n",
        "# (Find Min)\n",
        "def Newton_single(f,x:List[sp.core.symbol.Symbol],x0:np.ndarray,iteration=-1):\n",
        "  df1 = f.diff(x[0],1).subs(x[0],x0[0])\n",
        "  df2 = f.diff(x[0],2).subs(x[0],x0[0])\n",
        "  h = df1/df2\n",
        "  x1 = x0[0]\n",
        "  num = 0\n",
        "  while(h!=0 and (num<iteration or iteration==-1)):\n",
        "    x1 = x1-h\n",
        "    df1 = f.diff(x[0],1).subs(x[0],x1)\n",
        "    df2 = f.diff(x[0],2).subs(x[0],x1)\n",
        "    h = df1/df2\n",
        "    num += 1 \n",
        "  return (x1,num)\n",
        "\n",
        "# print the approximation function in newton method\n",
        "def Newton_function_approx(f,x:List[sp.core.symbol.Symbol],x0:np.ndarray):\n",
        "  # f_approx = f0 + df1*(x-x0[0])+ 0.5*df2*(x-x0[0])^2\n",
        "  # sometimes, (x-x0[0]) = h\n",
        "  f0 = f.subs(x[0],x0[0])\n",
        "  df1 = f.diff(x[0],1).subs(x[0],x0[0])\n",
        "  df2 = f.diff(x[0],2).subs(x[0],x0[0])\n",
        "  print(f0)\n",
        "  print(str(df1)+str(\"(x-x0[0])\"))\n",
        "  print(str(0.5*df2)+str(\"(x-x0[0])^2\"))\n",
        "\n",
        "x = sp.symbols(\"x:1\")\n",
        "f = 4*x[0]**3+2*x[0]**2+5*x[0]+40\n",
        "Newton_single(f,x,[2],1)"
      ],
      "metadata": {
        "colab": {
          "base_uri": "https://localhost:8080/"
        },
        "id": "Ci1ivUekWxIy",
        "outputId": "821e7f2b-c542-4de6-e48f-25f23ade1c26"
      },
      "execution_count": null,
      "outputs": [
        {
          "output_type": "execute_result",
          "data": {
            "text/plain": [
              "(43/52, 1)"
            ]
          },
          "metadata": {},
          "execution_count": 3
        }
      ]
    },
    {
      "cell_type": "code",
      "source": [
        "# ND optimization\n",
        "# hessian[i][j] = ∂^2(f)/∂(xi)∂(xj)\n",
        "def Hessian_matrix(f,x:List[sp.core.symbol.Symbol]):\n",
        "  hessian = []\n",
        "  for i in range(len(x)):\n",
        "    hessian.append([])\n",
        "    for j in range(len(x)):\n",
        "      hessian[i].append(f)\n",
        "  hessian = np.array(hessian)\n",
        "  for i in range(len(x)):\n",
        "    for j in range(i,len(x)):\n",
        "      ddf = hessian[i][j].diff(x[i],1).diff(x[j],1)\n",
        "      hessian[i][j] = ddf\n",
        "      hessian[j][i] = ddf\n",
        "  return hessian\n",
        "\n",
        "# return ∇f\n",
        "def f_grad(f,x:List[sp.core.symbol.Symbol]):\n",
        "  delta_f = []\n",
        "  for i in range(len(x)):\n",
        "    delta_f.append(f)\n",
        "  for i in range(len(x)):\n",
        "      delta_f[i] = delta_f[i].diff(x[i],1)\n",
        "  return np.array(delta_f)\n",
        "\n",
        "# Solve hessian matrix and get H(x0)\n",
        "# Return the value of H(x0), hessian(x0)\n",
        "def Hx(hessian, x:List[sp.core.symbol.Symbol], x0:np.ndarray):\n",
        "  h = np.zeros(hessian.shape)\n",
        "  for i in range(len(x)):\n",
        "    for j in range(i,len(x)):\n",
        "      ddf = hessian[i][j]\n",
        "      for k in range(len(x)):\n",
        "        ddf = ddf.subs(x[k],x0[k])\n",
        "      h[i][j] = ddf\n",
        "      h[j][i] = ddf \n",
        "  return h\n",
        "\n",
        "# return ∇f(x0)\n",
        "# delta_f = f_grad(f,x)\n",
        "def solve_f_grad(delta_f,x:List[sp.core.symbol.Symbol],x0:np.ndarray):\n",
        "  dfx = np.zeros(delta_f.shape)\n",
        "  for i in range(len(x)):\n",
        "    df = delta_f[i]\n",
        "    for k in range(x0.shape[0]):\n",
        "      df = df.subs(x[k],x0[k])\n",
        "    dfx[i] = df \n",
        "  return dfx\n",
        "\n",
        "# Perform ND optimal solution\n",
        "# First order: find critical points\n",
        "# Second order: check the type of critical point by using eigenvals\n",
        "# Will print out all critical points and its type\n",
        "def solve_ND_optimal(f,x:List[sp.core.symbol.Symbol]):\n",
        "  delta_f = f_grad(f,x)\n",
        "  hessian = Hessian_matrix(f,x)\n",
        "  stat_points = sp.solve(delta_f,x)\n",
        "  for xi in stat_points:\n",
        "    hi = Hx(hessian, x, xi)\n",
        "    eig = la.eig(hi)\n",
        "    pos = 0\n",
        "    neg = 0\n",
        "    for i in eig[0]:\n",
        "      if (i>0): pos += 1\n",
        "      else: neg += 1\n",
        "    if (neg!=0 and pos!=0):   print(\"Saddle Point: \"+str(xi))\n",
        "    elif (neg==0 and pos!=0): print(\"Minimum     : \"+str(xi))\n",
        "    elif (neg!=0 and pos==0): print(\"Maximum     : \"+str(xi))\n",
        "    else: print(\"Error\")\n",
        "  \n",
        "x = sp.symbols(\"x:2\")\n",
        "f = 3+ (x[0]**2)*x[1]/8+(x[1]**2)/8\n",
        "x0 = np.array([np.pi/3,np.pi/(2*np.sqrt(2))])\n",
        "solve_ND_optimal(f,x)\n",
        "delta_f = f_grad(f,x)\n",
        "dfx = solve_f_grad(delta_f,x,x0)\n",
        "print(dfx)\n",
        "hessian = Hessian_matrix(f,x)\n",
        "hx = Hx(hessian, x, x0)\n",
        "print(hx)"
      ],
      "metadata": {
        "colab": {
          "base_uri": "https://localhost:8080/"
        },
        "id": "LEVO7ay78HNS",
        "outputId": "2e2fcba4-dc31-4277-bbad-b7b073517b34"
      },
      "execution_count": null,
      "outputs": [
        {
          "output_type": "stream",
          "name": "stdout",
          "text": [
            "Saddle Point: (0, 0)\n",
            "[0.29078601 0.41475802]\n",
            "[[0.27768018 0.26179939]\n",
            " [0.26179939 0.25      ]]\n"
          ]
        }
      ]
    },
    {
      "cell_type": "code",
      "source": [
        "# Steepest Descent Method\n",
        "\n",
        "# function wrapper for line search\n",
        "def func(alpha, f,x:List[sp.core.symbol.Symbol],x0:np.ndarray):\n",
        "  df  = f_grad(f,x)\n",
        "  dfx = solve_f_grad(delta_f,x,x0)\n",
        "  xk = np.float64(x0-alpha*dfx)\n",
        "  val = f\n",
        "  for i in range(len(x)):\n",
        "    val = val.subs(x[i],xk[i])\n",
        "  val = np.float64(val)\n",
        "  return val\n",
        "\n",
        "\n",
        "# If alpha was given, or learning rate not given (alpha==1), then\n",
        "# use this method, and set alpha_ini to the given alpha\n",
        "# if alpha_ini==0, the function will use line search to find optimized alpha\n",
        "def steepest_descent_alpha(f,x:List[sp.core.symbol.Symbol],x0:np.ndarray,tol,alpha_ini=1,iteration=-1):\n",
        "  delta_f = f_grad(f,x)\n",
        "  xk = np.float64(x0)\n",
        "  num = 0\n",
        "  s_list = []\n",
        "  a_list = []\n",
        "  alpha = alpha_ini\n",
        "  while(num<iteration or iteration==-1):\n",
        "    if(alpha_ini==0): alpha = opt.golden(func, args = (f,x,xk))\n",
        "    dfx = solve_f_grad(delta_f,x,xk)\n",
        "    sk = -1*alpha*dfx\n",
        "    if(la.norm(sk, np.inf)<tol): break\n",
        "    s_list.append(sk)\n",
        "    a_list.append(alpha)\n",
        "    xk = xk + sk\n",
        "    num += 1\n",
        "  return (xk,s_list,num)\n",
        "\n",
        "\n",
        "# use this only when learning rate was given\n",
        "def steepest_descent_learning_rate(f,x:List[sp.core.symbol.Symbol],x0:np.ndarray,learning_rate,tol,iteration=-1):\n",
        "  delta_f = f_grad(f,x)\n",
        "  xk = np.float64(x0)\n",
        "  num = 0\n",
        "  s_list = []\n",
        "  while(num<iteration or iteration==-1):\n",
        "    dfx = solve_f_grad(delta_f,x,xk)\n",
        "    sk = -1*learning_rate*dfx\n",
        "    if(la.norm(sk, np.inf)<tol): break\n",
        "    s_list.append(sk)\n",
        "    xk = xk + sk\n",
        "    num += 1\n",
        "  return (xk,s_list,num)\n"
      ],
      "metadata": {
        "id": "-rzPsv_6NBME"
      },
      "execution_count": null,
      "outputs": []
    },
    {
      "cell_type": "code",
      "source": [
        "# ND Newton's method (Find Min)\n",
        "def ND_Newton(f,x:List[sp.core.symbol.Symbol],x0:np.ndarray,tol, iteration=-1):\n",
        "  num = 0\n",
        "  hessian = Hessian_matrix(f,x)\n",
        "  delta_f = f_grad(f,x)\n",
        "  xk = x0\n",
        "  while(num<iteration or iteration==-1):\n",
        "    hx = Hx(hessian, x, xk)\n",
        "    dfx = solve_f_grad(delta_f,x,xk)\n",
        "    sk = la.solve(hx,-1*dfx)\n",
        "    if(la.norm(sk, np.inf)<tol): break\n",
        "    xk = xk+sk\n",
        "    num += 1\n",
        "  return (xk, sk, num)\n",
        "  \n",
        "x = sp.symbols(\"x:2\")\n",
        "f = -1*(sp.exp(-1*(x[0]**2)))*(x[0]+sp.sin(x[0]))\n",
        "print(f.diff(x[0],2))"
      ],
      "metadata": {
        "colab": {
          "base_uri": "https://localhost:8080/"
        },
        "id": "xtHEmnTyYhm1",
        "outputId": "4adbfda3-27df-4904-8cb6-5c304827663f"
      },
      "execution_count": null,
      "outputs": [
        {
          "output_type": "stream",
          "name": "stdout",
          "text": [
            "(4*x0*(cos(x0) + 1) - 2*(x0 + sin(x0))*(2*x0**2 - 1) + sin(x0))*exp(-x0**2)\n"
          ]
        }
      ]
    },
    {
      "cell_type": "code",
      "source": [
        "x = sp.symbols(\"x:1\")\n",
        "f = 3*(x[0]**3) + x[0]**2 + 3*x[0] + 1\n",
        "x0 = np.array([2])\n",
        "Newton_function_approx(f,x,x0)"
      ],
      "metadata": {
        "colab": {
          "base_uri": "https://localhost:8080/"
        },
        "id": "1d_GKgPis6ri",
        "outputId": "8cf1bd31-0155-44f6-e938-13e81a8225b9"
      },
      "execution_count": null,
      "outputs": [
        {
          "output_type": "stream",
          "name": "stdout",
          "text": [
            "35\n",
            "43(x-x0[0])\n",
            "19.0000000000000(x-x0[0])^2\n"
          ]
        }
      ]
    },
    {
      "cell_type": "code",
      "source": [
        "x = sp.symbols(\"x:2\")\n",
        "x0 = np.array([np.pi/3,np.pi/(2*np.sqrt(2))])\n",
        "f = 3+((x[0]**2)/8)+((x[1]**2)/8)-sp.sin(x[0])*sp.cos(x[1]*sp.sqrt(2)/2)\n",
        "print(f)\n",
        "print(solve_f_grad(f_grad(f,x),x,x0))\n",
        "print(Hx(Hessian_matrix(f,x), x, x0))\n",
        "print(ND_Newton(f,x,x0,10**-8, iteration=1))\n",
        "print(steepest_descent_alpha(f,x,x0,10**-8,alpha_ini=1.581, iteration=1))"
      ],
      "metadata": {
        "colab": {
          "base_uri": "https://localhost:8080/"
        },
        "id": "pqBjCyh14uFO",
        "outputId": "2794d5fa-d75d-4add-88c1-2a107f4f1163"
      },
      "execution_count": null,
      "outputs": [
        {
          "output_type": "stream",
          "name": "stdout",
          "text": [
            "x0**2/8 + x1**2/8 - sin(x0)*cos(sqrt(2)*x1/2) + 3\n",
            "[-0.091754    0.71069289]\n",
            "[[0.86237244 0.25      ]\n",
            " [0.25       0.55618622]]\n",
            "(array([ 1.59546844, -0.41351805]), array([ 0.54827089, -1.52423879]), 1)\n",
            "(array([ 1.19226063, -0.01288472]), [array([ 0.14506308, -1.12360545])], 1)\n"
          ]
        }
      ]
    },
    {
      "cell_type": "code",
      "source": [
        "x = sp.symbols(\"x:2\")\n",
        "x0 = np.array([0,1])\n",
        "f = 2*x[0]**2+2*x[0]*x[1]+2*x[1]**2+9*sp.exp(9*x[0]*x[1])+7*((sp.sin(x[1]))**2)+5*sp.cos(x[0]*x[1])\n",
        "print(f)\n",
        "print(solve_f_grad(f_grad(f,x),x,x0))\n",
        "print(Hx(Hessian_matrix(f,x), x, x0))\n",
        "print(ND_Newton(f,x,x0,10**-8, iteration=1))\n",
        "print(steepest_descent_alpha(f,x,x0,10**-8,alpha_ini=1, iteration=1))"
      ],
      "metadata": {
        "id": "qPj6lGewmvSn",
        "colab": {
          "base_uri": "https://localhost:8080/"
        },
        "outputId": "1b2d3424-96dc-4a36-cb8d-5e9c2a3f406b"
      },
      "execution_count": null,
      "outputs": [
        {
          "output_type": "stream",
          "name": "stdout",
          "text": [
            "2*x0**2 + 2*x0*x1 + 2*x1**2 + 9*exp(9*x0*x1) + 7*sin(x1)**2 + 5*cos(x0*x1)\n",
            "[83.         10.36508199]\n",
            "[[728.          83.        ]\n",
            " [ 83.          -1.82605571]]\n",
            "(array([-0.1231223 ,  1.07991607]), array([-0.1231223 ,  0.07991607]), 1)\n",
            "(array([-83.        ,  -9.36508199]), [array([-83.        , -10.36508199])], 1)\n"
          ]
        }
      ]
    },
    {
      "cell_type": "code",
      "source": [
        "# N-Dimension Optimization using Steepest Descent\n",
        "x = sp.symbols(\"x:2\")\n",
        "x0 = np.array([-2,2])\n",
        "f = 4*x[0]**2+13*x[0]*x[1]+4*(x[1]**2)+13*(sp.sin(x[1])**2)+9*sp.cos(x[0]*x[1])\n",
        "steepest_descent_alpha(f,x,x0,10**-8,alpha_ini=0.05,iteration=1)"
      ],
      "metadata": {
        "colab": {
          "base_uri": "https://localhost:8080/"
        },
        "id": "1upfPWa_bQbw",
        "outputId": "1353d054-1beb-4a3f-ca5c-e88a90a5cc8e"
      },
      "execution_count": null,
      "outputs": [
        {
          "output_type": "execute_result",
          "data": {
            "text/plain": [
              "(array([-1.81887775,  2.31079938]), [array([0.18112225, 0.31079938])], 1)"
            ]
          },
          "metadata": {},
          "execution_count": 8
        }
      ]
    },
    {
      "cell_type": "code",
      "source": [
        "# Perform One Step of Golden Section Search\n",
        "x = sp.symbols(\"x:1\")\n",
        "f = (x[0]-6.2)**4\n",
        "golden_single(f,x,-6,8,iteration=1)"
      ],
      "metadata": {
        "colab": {
          "base_uri": "https://localhost:8080/"
        },
        "id": "lB74bp-5x8XJ",
        "outputId": "e18d0e28-5d80-4ab8-cee9-5809b52cddba"
      },
      "execution_count": null,
      "outputs": [
        {
          "output_type": "execute_result",
          "data": {
            "text/plain": [
              "(-0.6524758424985286, 8)"
            ]
          },
          "metadata": {},
          "execution_count": 9
        }
      ]
    },
    {
      "cell_type": "code",
      "source": [
        "# Carrying out Newton steps\n",
        "x = sp.symbols(\"x:1\")\n",
        "x0 = np.array([0.35])\n",
        "f = 5*(sp.cos(x[0])**5)\n",
        "print(Newton_single(f,x,x0,iteration=1))"
      ],
      "metadata": {
        "colab": {
          "base_uri": "https://localhost:8080/"
        },
        "id": "ZNyQlE05zmtg",
        "outputId": "a0cc09d5-6bd4-4973-de31-349611ec1089"
      },
      "execution_count": null,
      "outputs": [
        {
          "output_type": "stream",
          "name": "stdout",
          "text": [
            "(-0.431617494708300, 1)\n"
          ]
        }
      ]
    },
    {
      "cell_type": "code",
      "source": [
        "# Carrying out Newton steps (n-dimensional)\n",
        "x = sp.symbols(\"x:2\")\n",
        "x0 = np.array([0,np.pi])\n",
        "f = sp.exp(4*x[0])+7*sp.cos(x[1])\n",
        "ND_Newton(f,x,x0,10**-8, iteration=1)"
      ],
      "metadata": {
        "colab": {
          "base_uri": "https://localhost:8080/"
        },
        "id": "5yp3LA4UON22",
        "outputId": "eb9003e1-0434-4e28-de80-3b2c92abacca"
      },
      "execution_count": null,
      "outputs": [
        {
          "output_type": "execute_result",
          "data": {
            "text/plain": [
              "(array([-0.25      ,  3.14159265]), array([-2.5000000e-01,  1.2246468e-16]), 1)"
            ]
          },
          "metadata": {},
          "execution_count": 11
        }
      ]
    },
    {
      "cell_type": "code",
      "source": [
        "# Carrying out Newton steps\n",
        "x = sp.symbols(\"x:1\")\n",
        "x0 = np.array([0.45])\n",
        "f = sp.cos(x[0])\n",
        "Newton_single(f,x,x0,iteration=1)"
      ],
      "metadata": {
        "colab": {
          "base_uri": "https://localhost:8080/"
        },
        "id": "lXJFTOyvOs07",
        "outputId": "cc63f19b-e974-40d7-ebba-c6a261cff126"
      },
      "execution_count": null,
      "outputs": [
        {
          "output_type": "execute_result",
          "data": {
            "text/plain": [
              "(-0.0330550656165784, 1)"
            ]
          },
          "metadata": {},
          "execution_count": 12
        }
      ]
    },
    {
      "cell_type": "code",
      "source": [
        "# Golden Section Interval\n",
        "x = sp.symbols(\"x:1\")\n",
        "x0 = np.array([0.45])\n",
        "f = (x[0]-7.2)**4\n",
        "golden_single(f,x,-6,13,tol=10**-8,tau=(np.sqrt(5) - 1)/2, iteration=1)"
      ],
      "metadata": {
        "colab": {
          "base_uri": "https://localhost:8080/"
        },
        "id": "AoesnxorRyGY",
        "outputId": "ca7cd0b3-64b2-4abe-942d-a80fb337f36c"
      },
      "execution_count": null,
      "outputs": [
        {
          "output_type": "execute_result",
          "data": {
            "text/plain": [
              "(1.2573542137519969, 13)"
            ]
          },
          "metadata": {},
          "execution_count": 13
        }
      ]
    },
    {
      "cell_type": "code",
      "source": [
        "# Optimization ND NewtonMethod one step\n",
        "x = sp.symbols(\"x:2\")\n",
        "x0 = np.array([1,3])\n",
        "f = (4*x[0]**3)+2*(x[1]**2)\n",
        "print(Hx(Hessian_matrix(f,x), x, x0))\n",
        "print(ND_Newton(f,x,x0,10**-8, iteration=1))"
      ],
      "metadata": {
        "colab": {
          "base_uri": "https://localhost:8080/"
        },
        "id": "_bR5j_RFWiGA",
        "outputId": "e06951ad-904d-4d22-8811-80338486871b"
      },
      "execution_count": null,
      "outputs": [
        {
          "output_type": "stream",
          "name": "stdout",
          "text": [
            "[[24.  0.]\n",
            " [ 0.  4.]]\n",
            "(array([0.5, 0. ]), array([-0.5, -3. ]), 1)\n"
          ]
        }
      ]
    },
    {
      "cell_type": "code",
      "source": [
        "# Determine the length of the interval after one iteration\n",
        "x = sp.symbols(\"x:1\")\n",
        "x0 = np.array([0.45])\n",
        "f = (x[0]-7.2)**4\n",
        "get_interval_len(-12,10,1, tau=(np.sqrt(5) - 1)/2)"
      ],
      "metadata": {
        "colab": {
          "base_uri": "https://localhost:8080/"
        },
        "id": "1Ax_YSMzX_rt",
        "outputId": "7921c7e3-96ba-4c11-cad5-e45bff11091f"
      },
      "execution_count": null,
      "outputs": [
        {
          "output_type": "execute_result",
          "data": {
            "text/plain": [
              "13.596747752497688"
            ]
          },
          "metadata": {},
          "execution_count": 15
        }
      ]
    },
    {
      "cell_type": "code",
      "source": [
        "# Carrying out Newton steps\n",
        "x = sp.symbols(\"x:1\")\n",
        "x0 = np.array([0.35])\n",
        "f = -1*sp.exp(-1*(x[0]**2))\n",
        "Newton_single(f,x,x0,iteration=1)"
      ],
      "metadata": {
        "colab": {
          "base_uri": "https://localhost:8080/"
        },
        "id": "qsW59n6xauoh",
        "outputId": "2cb2ee69-ad66-4c4c-f606-7ed9e51e57df"
      },
      "execution_count": null,
      "outputs": [
        {
          "output_type": "execute_result",
          "data": {
            "text/plain": [
              "(-0.113576158940397, 1)"
            ]
          },
          "metadata": {},
          "execution_count": 16
        }
      ]
    },
    {
      "cell_type": "code",
      "source": [
        "x = sp.symbols(\"x:2\")\n",
        "x0 = np.array([-5,5])\n",
        "f = 10*x[0]**2 + 11*x[0]*x[1]+10*x[1]**2+2*(sp.sin(x[1])**2)+12*sp.cos(x[0]*x[1])\n",
        "print(steepest_descent_alpha(f,x,x0,10**-8,alpha_ini=0.3,iteration = 1))\n",
        "print(steepest_descent_learning_rate(f,x,x0,0.3,10**-8,iteration = 1))"
      ],
      "metadata": {
        "colab": {
          "base_uri": "https://localhost:8080/"
        },
        "id": "1S1SXSdcnBOI",
        "outputId": "1a754eb7-3c31-43e7-9fd6-d772b3b1ab11"
      },
      "execution_count": null,
      "outputs": [
        {
          "output_type": "stream",
          "name": "stdout",
          "text": [
            "(array([ 10.8823315 , -10.55591884]), [array([ 15.8823315 , -15.55591884])], 1)\n",
            "(array([ 10.8823315 , -10.55591884]), [array([ 15.8823315 , -15.55591884])], 1)\n"
          ]
        }
      ]
    },
    {
      "cell_type": "code",
      "source": [
        "x = sp.symbols(\"x:1\")\n",
        "x0 = np.array([0.4])\n",
        "f = 4*sp.sin(x[0]**5)\n",
        "Newton_single(f,x,x0,iteration = 1)"
      ],
      "metadata": {
        "colab": {
          "base_uri": "https://localhost:8080/"
        },
        "id": "4p5Wx173pclP",
        "outputId": "27477c10-0494-455d-cd29-e9d661883229"
      },
      "execution_count": null,
      "outputs": [
        {
          "output_type": "execute_result",
          "data": {
            "text/plain": [
              "(0.299986890623519, 1)"
            ]
          },
          "metadata": {},
          "execution_count": 21
        }
      ]
    },
    {
      "cell_type": "code",
      "source": [
        "x = sp.symbols(\"x:1\")\n",
        "f = (x[0]-6.7)**2\n",
        "golden_single(f,x,-5,12,iteration =1)"
      ],
      "metadata": {
        "colab": {
          "base_uri": "https://localhost:8080/"
        },
        "id": "BGcfwfyErN4v",
        "outputId": "d0b3ea51-0a62-45a1-f634-b7b92d554700"
      },
      "execution_count": null,
      "outputs": [
        {
          "output_type": "execute_result",
          "data": {
            "text/plain": [
              "(1.4934221912517867, 12)"
            ]
          },
          "metadata": {},
          "execution_count": 24
        }
      ]
    },
    {
      "cell_type": "code",
      "source": [
        "# N-Dimension Optimization using Steepest Descent\n",
        "x = sp.symbols(\"x:2\")\n",
        "x0 = np.array([-2,5])\n",
        "f = 13*(x[0]**2)+4*x[0]*x[1]+13*x[1]**2+12*(sp.sin(x[1])**2)+13*sp.cos(x[0]*x[1])\n",
        "steepest_descent_alpha(f,x,x0,10**-8,iteration = 1)"
      ],
      "metadata": {
        "colab": {
          "base_uri": "https://localhost:8080/"
        },
        "id": "e0M32ep_WqFI",
        "outputId": "72ac72a8-e84d-48a6-d122-05b46fcde4af"
      },
      "execution_count": null,
      "outputs": [
        {
          "output_type": "execute_result",
          "data": {
            "text/plain": [
              "(array([  84.63986127, -161.71183346]),\n",
              " [array([  86.63986127, -166.71183346])],\n",
              " 1)"
            ]
          },
          "metadata": {},
          "execution_count": 11
        }
      ]
    },
    {
      "cell_type": "code",
      "source": [
        "x = sp.symbols(\"x:2\")\n",
        "x0 = np.array([1,3])\n",
        "f = 6*x[0]**4+3*x[1]**2\n",
        "\n",
        "hessian = Hessian_matrix(f,x)\n",
        "ND_Newton(f,x,x0,tol=10**-12,iteration=1)"
      ],
      "metadata": {
        "colab": {
          "base_uri": "https://localhost:8080/"
        },
        "id": "rEaIr3YW8QEL",
        "outputId": "2e335e95-39d7-402b-d6f7-7eff9729b455"
      },
      "execution_count": null,
      "outputs": [
        {
          "output_type": "execute_result",
          "data": {
            "text/plain": [
              "(array([0.66666667, 0.        ]), array([-0.33333333, -3.        ]), 1)"
            ]
          },
          "metadata": {},
          "execution_count": 12
        }
      ]
    }
  ]
}