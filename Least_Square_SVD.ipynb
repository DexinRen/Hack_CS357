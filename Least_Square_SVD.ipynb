{
  "nbformat": 4,
  "nbformat_minor": 0,
  "metadata": {
    "colab": {
      "name": "Least_Square_SVD.ipynb",
      "provenance": [],
      "collapsed_sections": []
    },
    "kernelspec": {
      "name": "python3",
      "display_name": "Python 3"
    },
    "language_info": {
      "name": "python"
    }
  },
  "cells": [
    {
      "cell_type": "code",
      "source": [
        "import sys\n",
        "import numpy as np\n",
        "import numpy.linalg as la\n",
        "import sympy as sp\n",
        "from typing import Tuple"
      ],
      "metadata": {
        "id": "hEN-l4KMi0SU"
      },
      "execution_count": null,
      "outputs": []
    },
    {
      "cell_type": "code",
      "source": [
        "# SVD\n",
        "\n",
        "# Pseudo-inverse:\n",
        "def pseudo_inv_Sigma(Sigma:np.ndarray)->np.ndarray:\n",
        "  m,n = Sigma.shape\n",
        "  k = min(m,n)\n",
        "  Sigma_plus = np.zeros(Sigma.shape)\n",
        "  for i in range(k):\n",
        "    sig_i = Sigma[i][i]\n",
        "    if(Sigma[i][i]!=0): Sigma_plus[i][i] = 1/sig_i\n",
        "  return Sigma_plus\n",
        "\n",
        "def inv_A(U:np.ndarray,Sigma:np.ndarray,V:np.ndarray)->np.ndarray:\n",
        "  if(la.cond(Sigma)<1/sys.float_info.epsilon):\n",
        "    A_inv = V @ la.inv(Sigma) @ U.T\n",
        "    message = \"\\n====== Normal Inverse of A =====\\n\"\n",
        "  else:\n",
        "    A_inv = V @ pseudo_inv_Sigma(Sigma) @ U.T\n",
        "    message = \"\\n====== Pseudo Inverse of A =====\\n\"\n",
        "  print(message)\n",
        "  return A_inv\n",
        "\n",
        "# Get SVD from (A^T)(A)\n",
        "# Returns (Sigma, V)\n",
        "def ATA_to_SVD(ATA:np.ndarray)->tuple:\n",
        "  V = np.zeros(ATA.shape)\n",
        "  Sigma = np.zeros(ATA.shape)\n",
        "  vals, vecs = la.eig(ATA)\n",
        "  orders = vals.argsort()\n",
        "  for i in range(len(vals)):\n",
        "    order = orders[i]\n",
        "    val = vals[order]\n",
        "    vec = vecs[:,order]\n",
        "    V[:,i] = vec\n",
        "    Sigma[i][i] = np.sqrt(val)\n",
        "  return Sigma, V\n",
        "\n",
        "# Get SVD from (A)(A^T)\n",
        "# Returns (U, Sigma)\n",
        "# AAT = XDX^-1, X is eigvecs of AAT, D is eigvals\n",
        "def AAT_get_U_Sigma(X,D):\n",
        "  U = X\n",
        "  Sigma = np.sqrt(D)\n",
        "  return (U,Sigma)\n",
        "\n",
        "# Get SVD from XDX factorizations (or eigenpairs)\n",
        "# Returns (U, Sigma, V)\n",
        "def Eig_to_SVD(A,X,D,AV=None):\n",
        "  Sigma = np.sqrt(D)\n",
        "  V = np.zeros(X.shape)\n",
        "  for i in range(len(X[0])):\n",
        "    V[:,i] = X[:,i]\n",
        "  if(AV is not None): \n",
        "    U = AV @ (la.inv(Sigma))\n",
        "  else: \n",
        "    U = A @ V @ (la.inv(Sigma))\n",
        "  return U, Sigma, V\n",
        "\n",
        "\n",
        "# get condition number of A by using sigma\n",
        "def get_cond(Sigma: np.ndarray)->float:\n",
        "  d = np.diag(Sigma)\n",
        "  sig_max = np.amax(d)\n",
        "  sig_min = np.amin(d)\n",
        "\n",
        "  if(sig_min==0): return np.inf\n",
        "  return sig_max/sig_min\n",
        "\n",
        "def get_norm(Sigma: np.ndarray):\n",
        "  return np.max(Sigma)\n",
        "\n",
        "# get Norm(A^-1)\n",
        "def norm_inv(Sigma:np.ndarray):\n",
        "  d = np.diag(Sigma)\n",
        "  sig_r = np.amin(d)\n",
        "  if(sig_r==0): return 0\n",
        "  return 1/sig_r\n",
        "\n",
        "# Time Complexity of SVD\n",
        "# this function will calculate the cost for the new matrix\n",
        "# the matrix with given time is n0 x m0, time consumed is t0\n",
        "# the new given matrix is n1 x m1\n",
        "def get_time(n0,m0,t0,n1,m1):\n",
        "  # SVD = alpha(mn^2+n^3)\n",
        "  frac = (n1**3+m1*(n1**2))/(n0**3+m0*(n0**2))\n",
        "  return frac*t0\n",
        "\n",
        "# get all info of A\n",
        "def get_all_info(U,Sigma,read_info=0):\n",
        "  n = np.min(Sigma.shape)\n",
        "  print(n)\n",
        "  U_r = U[:,:n]\n",
        "  Sigma_r = Sigma[:n,:n]\n",
        "  cond = get_cond(Sigma)\n",
        "  norm = get_norm(Sigma)\n",
        "  if(read_info == 0):\n",
        "    print(\"2-Norm of A is        : \"+str(norm))\n",
        "    print(\"2-Norm Cond(A) is     : \"+str(cond))\n",
        "    print(\"Shape of U reduced    : \"+str(U_r.shape))\n",
        "    print(\"Shape of Sigma reduced: \"+str(Sigma_r.shape))\n",
        "    print(\"U reduced             : \"+str(U_r))\n",
        "    print(\"Sigma reduced         : \"+str(Sigma_r))\n",
        "  return U_r,Sigma_r\n",
        "\n",
        "# A_approximation\n",
        "# Image compression\n",
        "def A_approx(U, Sigma, VT, rank):\n",
        "  for i in range(rank):\n",
        "    ui = U[:,[i]]\n",
        "    vti = VT[[i],:]\n",
        "    sig = Sigma[i][i]\n",
        "    if(i==0): approx = sig*(ui @ vti)\n",
        "    else: approx += sig*(ui @ vti)\n",
        "  norm_app = Sigma[rank][rank]\n",
        "  norm_res = norm_app/Sigma[0][0]\n",
        "  print(\"A_rank        : \"+str(approx.tolist()))\n",
        "  print(\"Norm(A-A_rank): \"+str(norm_app))\n",
        "  print(\"Norm(Residual): \"+str(norm_res)) \n",
        "  return approx\n",
        "\n",
        "\n",
        "  "
      ],
      "metadata": {
        "id": "Iwjwba7hhxRw"
      },
      "execution_count": null,
      "outputs": []
    },
    {
      "cell_type": "code",
      "source": [
        "## Least Square\n",
        "\n",
        "# Get x\n",
        "def get_x_SVD(U: np.ndarray,Sigma: np.ndarray,VT: np.ndarray,b: np.ndarray):\n",
        "  n = min(Sigma.shape)\n",
        "  Sigma_pr = pseudo_inv_Sigma(Sigma)[:n,:n]\n",
        "  U_r = U[:,:n]\n",
        "  x = VT.T @ Sigma_pr @ U_r.T @ b\n",
        "  return x\n",
        "\n",
        "# Get Residual: ||b-Ax||_2\n",
        "def get_residual(U: np.ndarray,Sigma: np.ndarray,VT: np.ndarray,b: np.ndarray):\n",
        "  x = get_x_SVD(U, Sigma, VT, b)\n",
        "  Ax = U @ Sigma @ VT @ x\n",
        "  out = la.norm(b-Ax,2)\n",
        "  return out\n",
        "\n",
        "# get Φ(x)\n",
        "def function_residual(f,x,x0,y0):\n",
        "  r = []\n",
        "  for i in range(len(x0)):\n",
        "    yi = f\n",
        "    xi = x0[i]\n",
        "    if(type(xi)==list):\n",
        "      for j in range(len(x)):\n",
        "        yi = yi.subs(x[j],xi[j])\n",
        "    else:\n",
        "      yi = yi.subs(x[0],xi)\n",
        "    r.append(abs(y0[i] - yi))\n",
        "  r = np.array(r,dtype=\"float64\")\n",
        "  return f,la.norm(r,2)\n",
        "\n",
        "# get A in least square\n",
        "def construct_A(ts,t,t0):\n",
        "  n = ts.shape[0]\n",
        "  m = len(t0)\n",
        "  A = np.zeros((m,n))\n",
        "  for i in range(m):\n",
        "    for j in range(n):\n",
        "      if(type(ts[j])!=int and type(ts[j])!=float):\n",
        "        A[i][j] = ts[j].subs(t[0],t0[i])\n",
        "      else:\n",
        "        A[i][j] = ts[j]\n",
        "  return A\n",
        "\n",
        "def get_x_least_square(A, b):\n",
        "  result = la.lstsq(A, b,rcond=-1)\n",
        "  x = result[0]\n",
        "  residual = result[1]\n",
        "  return x, residual\n",
        "\n",
        "def get_A_rank(x0):\n",
        "  print(\"如果x项数>\"+str(len(set(x0.flatten()))) + \", Rank = \"+str(len(set(x0.flatten()))))\n",
        "  print(\"如果x项数<=\"+str(len(set(x0.flatten()))) + \", Rank = x项数\")\n",
        "\n",
        "def get_Normal(ts,t,t0,y0):\n",
        "  A = construct_A(ts,t,t0)\n",
        "  M = A.T @ A\n",
        "  n = A.T @ y0.T\n",
        "  print(\"Normal: Mc=n\")\n",
        "  print(\"M = AT @ A\")\n",
        "  print(\"n = AT @ b\")\n",
        "  print(\"M:\"+str(M))\n",
        "  print(\"n:\"+str(n))\n",
        "  return M, n"
      ],
      "metadata": {
        "id": "ULvC7FG-GO1M"
      },
      "execution_count": null,
      "outputs": []
    },
    {
      "cell_type": "code",
      "source": [
        "Sigma = np.array([[8,0],[0,3],[0,0]])\n",
        "U = np.array([[-0.70,0.58,0.42],[-0.67,-0.33,-0.67],[-0.25,-0.75,0.61]])\n",
        "get_all_info(U,Sigma)"
      ],
      "metadata": {
        "id": "bmbFhyArZJST"
      },
      "execution_count": null,
      "outputs": []
    },
    {
      "cell_type": "code",
      "source": [
        "U = np.array([[0.00, 0.92, 0.29, -0.26], [-0.25, 0.06, 0.53, 0.81], [-0.80, -0.23, 0.33, -0.45], [-0.55, 0.30, -0.73, 0.28]])\n",
        "sigma = np.array([[8.00, 0.00, 0.00], [0.00, 6.00, 0.00], [0.00, 0.00, 5.00], [0.00, 0.00, 0.00]])\n",
        "Vt = np.array([[-0.68, -0.65, -0.33], [0.47, -0.05, -0.88], [0.56, -0.75, 0.34]])\n",
        "A_approx(U, sigma, Vt, 2)"
      ],
      "metadata": {
        "id": "W22n6J7-hJRu"
      },
      "execution_count": null,
      "outputs": []
    },
    {
      "cell_type": "code",
      "source": [
        "U=np.array([[0,1/np.sqrt(2),1/np.sqrt(2)],[0,1/np.sqrt(2),-1/np.sqrt(2)],[1,0,0]])\n",
        "sigma = np.array([[5,0,0],[0,3,0],[0,0,2]])\n",
        "V = np.array([[1,0,0],[0,0,1],[0,1,0]])\n",
        "b = np.array([[np.sqrt(2)],[np.sqrt(2)],[1]])\n",
        "\n",
        "U_r, sigma_r = get_all_info(U,sigma, read_info=1)\n",
        "sigma_p = pseudo_inv_Sigma(sigma_r)\n",
        "V @ sigma_p @ U_r.T @ b"
      ],
      "metadata": {
        "id": "0tWRlUuDlUyu"
      },
      "execution_count": null,
      "outputs": []
    },
    {
      "cell_type": "code",
      "source": [
        "U = np.array([[1,0,0],[0,-1/np.sqrt(2),-1/np.sqrt(2)],[0,1/np.sqrt(2),1/np.sqrt(2)]])\n",
        "Sigma = np.array([[6,0,0],[0,6,0],[0,0,0]])\n",
        "VT = np.array([[-1*np.sqrt(3)/2,1/2,0],[-1/2,-1*np.sqrt(3)/2,0],[0,0,1]])\n",
        "b = np.array([[6],[0],[0]])\n",
        "\n",
        "get_x_SVD(U,Sigma,VT,b)"
      ],
      "metadata": {
        "id": "zDNUhuzjHjUA"
      },
      "execution_count": null,
      "outputs": []
    },
    {
      "cell_type": "code",
      "source": [
        "U = np.array([[1/np.sqrt(2),-1/np.sqrt(2),0,0],[1/np.sqrt(2),1/np.sqrt(2),0,0],[0,0,0,1],[0,0,1,0]])\n",
        "Sigma = np.array([[4,0,0],[0,10,0],[0,0,0],[0,0,0]])\n",
        "VT = np.array([[1,0,0],[0,1,0],[0,0,1]])\n",
        "b = np.array([[6],[8],[2],[2]])\n",
        "get_residual(U,Sigma, VT,b)"
      ],
      "metadata": {
        "id": "aZiuKPYZCEvT",
        "colab": {
          "base_uri": "https://localhost:8080/"
        },
        "outputId": "2d7f5c91-269c-45e1-93b8-ecd85160f1ff"
      },
      "execution_count": null,
      "outputs": [
        {
          "output_type": "execute_result",
          "data": {
            "text/plain": [
              "2.8284271247461903"
            ]
          },
          "metadata": {},
          "execution_count": 5
        }
      ]
    },
    {
      "cell_type": "code",
      "source": [
        "x = sp.symbols(\"x:1\")\n",
        "fs = np.array([1.5*x[0]+7,4.5*x[0]+2,3*x[0]+3,5*x[0]+1])\n",
        "x0 = [1,2,5]\n",
        "y0 = [2,18,12]\n",
        "for f in fs:\n",
        "  print(function_residual(f,x,x0,y0))\n",
        "\n"
      ],
      "metadata": {
        "id": "ZVBb2Cy6uUiC",
        "colab": {
          "base_uri": "https://localhost:8080/"
        },
        "outputId": "92238007-6c71-4020-d5ae-3ec12db44873"
      },
      "execution_count": null,
      "outputs": [
        {
          "output_type": "stream",
          "name": "stdout",
          "text": [
            "(1.5*x0 + 7, 10.606601717798213)\n",
            "(4.5*x0 + 2, 15.016657417681207)\n",
            "(3*x0 + 3, 11.532562594670797)\n",
            "(5*x0 + 1, 16.15549442140351)\n"
          ]
        }
      ]
    },
    {
      "cell_type": "code",
      "source": [
        "t = sp.symbols(\"t:1\")\n",
        "t0 = [0.5,1.0,1.5,2.0,2.5,3.0,3.5]\n",
        "ts = np.array([1,sp.sin(t[0]*sp.pi),sp.sin(t[0]*sp.pi/2),sp.sin(t[0]*sp.pi/4)])\n",
        "construct_A(ts,t,t0)"
      ],
      "metadata": {
        "colab": {
          "base_uri": "https://localhost:8080/"
        },
        "id": "uJ7WQ_Rm0jYX",
        "outputId": "1094572a-0f25-4d11-e2c8-308556010525"
      },
      "execution_count": null,
      "outputs": [
        {
          "output_type": "execute_result",
          "data": {
            "text/plain": [
              "array([[ 1.        ,  1.        ,  0.70710678,  0.38268343],\n",
              "       [ 1.        ,  0.        ,  1.        ,  0.70710678],\n",
              "       [ 1.        , -1.        ,  0.70710678,  0.92387953],\n",
              "       [ 1.        ,  0.        ,  0.        ,  1.        ],\n",
              "       [ 1.        ,  1.        , -0.70710678,  0.92387953],\n",
              "       [ 1.        ,  0.        , -1.        ,  0.70710678],\n",
              "       [ 1.        , -1.        , -0.70710678,  0.38268343]])"
            ]
          },
          "metadata": {},
          "execution_count": 48
        }
      ]
    },
    {
      "cell_type": "code",
      "source": [
        "# Least-Squares Minimum Norm Solution\n",
        "a1 = np.array([[0,0,1,0],[1,0,0,0],[0,0,0,1],[0,0,0,0],[0,1,0,0]])\n",
        "a2 = np.array([[6,0,0,0],[0,2,0,0],[0,0,1,0],[0,0,0,0]])\n",
        "a3 = np.array([[0.00,0.00,-0.05,1.00],[0.00,0.00,-1.00,-0.05],[0.92,-0.39,0.00,0.00],[-0.39,-0.92,0.00,0.00]])\n",
        "A = a1 @ a2 @ a3\n",
        "b = np.array([3,9,9,2,6])\n",
        "print(get_x_least_square(A,b.T))"
      ],
      "metadata": {
        "colab": {
          "base_uri": "https://localhost:8080/"
        },
        "id": "CHZQbVW2B_Pm",
        "outputId": "c69f00ed-7c61-4101-ebcf-feca06e783e3"
      },
      "execution_count": null,
      "outputs": [
        {
          "output_type": "stream",
          "name": "stdout",
          "text": [
            "(array([ 2.76414622, -1.17175764, -3.06733167,  1.34663342]), array([], dtype=float64))\n"
          ]
        }
      ]
    },
    {
      "cell_type": "code",
      "source": [
        "# Getting the rank of matrix A from data points\n",
        "x0 = np.array([9.5,11.0,7.5,8.0,6.5,6.0,7.5,9.5,6.0])\n",
        "get_A_rank(x0)"
      ],
      "metadata": {
        "colab": {
          "base_uri": "https://localhost:8080/"
        },
        "id": "0RVTFJHsEE4b",
        "outputId": "c39327c9-14e6-4aeb-c0eb-cb7c573605fc"
      },
      "execution_count": null,
      "outputs": [
        {
          "output_type": "stream",
          "name": "stdout",
          "text": [
            "如果x项数>6, Rank = 6\n",
            "如果x项数<=6, Rank = x项数\n"
          ]
        }
      ]
    },
    {
      "cell_type": "code",
      "source": [
        "# Obtain the SVD from eigendecomposition\n",
        "X = np.array([[-0.99,-0.16],[-0.16,0.99]])\n",
        "D = np.array([[10,0],[0,3]])\n",
        "AAT_get_U(X,D)"
      ],
      "metadata": {
        "colab": {
          "base_uri": "https://localhost:8080/"
        },
        "id": "Z7t8Ms4wM2pN",
        "outputId": "2ac90104-c089-477b-92d0-46e19e275d06"
      },
      "execution_count": null,
      "outputs": [
        {
          "output_type": "execute_result",
          "data": {
            "text/plain": [
              "(array([[-0.99, -0.16],\n",
              "        [-0.16,  0.99]]), array([[3.16227766, 0.        ],\n",
              "        [0.        , 1.73205081]]))"
            ]
          },
          "metadata": {},
          "execution_count": 85
        }
      ]
    },
    {
      "cell_type": "code",
      "source": [
        "# Find RHS of normal equation\n",
        "t0 = np.array([1,4,6])\n",
        "y0 = np.array([-5,2,6])\n",
        "t = sp.symbols(\"t:1\")\n",
        "ts = np.array([sp.cos(t[0]),sp.sqrt(t[0])])\n",
        "\n",
        "get_Normal(ts,t,t0)"
      ],
      "metadata": {
        "colab": {
          "base_uri": "https://localhost:8080/"
        },
        "id": "F4tYfwP0WEw7",
        "outputId": "6842a19b-42bd-47ae-e11d-7432da772b00"
      },
      "execution_count": null,
      "outputs": [
        {
          "output_type": "stream",
          "name": "stdout",
          "text": [
            "Normal: Mc=n\n",
            "M = AT @ A\n",
            "n = AT @ b\n",
            "M:[[ 1.64110354  1.58494233]\n",
            " [ 1.58494233 11.        ]]\n",
            "n:[ 1.75222295 13.69693846]\n"
          ]
        },
        {
          "output_type": "execute_result",
          "data": {
            "text/plain": [
              "(array([[ 1.64110354,  1.58494233],\n",
              "        [ 1.58494233, 11.        ]]), array([ 1.75222295, 13.69693846]))"
            ]
          },
          "metadata": {},
          "execution_count": 91
        }
      ]
    },
    {
      "cell_type": "code",
      "source": [
        "# Find LHS of normal equation\n",
        "t0 = np.array([1,3,6])\n",
        "y0 = np.array([0.74,0.79,1.0])\n",
        "t = sp.symbols(\"t:1\")\n",
        "ts = np.array([sp.sin(t[0]),sp.sqrt(t[0])])\n",
        "\n",
        "A = construct_A(ts,t,t0)\n",
        "M = A.T @ A\n",
        "print(M)"
      ],
      "metadata": {
        "colab": {
          "base_uri": "https://localhost:8080/"
        },
        "id": "b0tj5gFouZrX",
        "outputId": "7ef80539-28f6-4cc6-a145-bca8fc74599f"
      },
      "execution_count": null,
      "outputs": [
        {
          "output_type": "stream",
          "name": "stdout",
          "text": [
            "[[ 0.8060613   0.40147261]\n",
            " [ 0.40147261 10.        ]]\n"
          ]
        }
      ]
    },
    {
      "cell_type": "code",
      "source": [
        "# Exam Score vs. Study Time\n",
        "import numpy as np\n",
        "import numpy.linalg as la\n",
        "\n",
        "def get_A(b):\n",
        "  n = 4\n",
        "  m = b.shape[0]\n",
        "  A = np.zeros((m,n))\n",
        "  for i in range(m):\n",
        "    x = b[i]\n",
        "    A[i] = [(x+2)**(2.5), np.exp(x+1),x,1]\n",
        "  return A\n",
        " \n",
        "A = get_A(study_time)\n",
        "coeffs = la.lstsq(A,scores, rcond=-1)[0]"
      ],
      "metadata": {
        "id": "e-8anqE6vvpU"
      },
      "execution_count": null,
      "outputs": []
    },
    {
      "cell_type": "code",
      "source": [
        "# Solve linear system using SVD\n",
        "import numpy as np\n",
        "bT = b.T\n",
        "inv_sigma = sigma**(-1)\n",
        "M1 = right_multiply_with_U(bT)\n",
        "M2 = np.diag(inv_sigma).T\n",
        "W = (M1@M2).T\n",
        "x = left_multiply_with_V(W)"
      ],
      "metadata": {
        "id": "jVV-VvmmvyYg"
      },
      "execution_count": null,
      "outputs": []
    },
    {
      "cell_type": "code",
      "source": [
        "# Estimate Sales\n",
        "import numpy as np\n",
        "import numpy.linalg as la\n",
        "def get_A(years):\n",
        "    n = years.shape[0]\n",
        "    A = np.zeros((n,2))\n",
        "    for i in range(years.shape[0]):\n",
        "        A[i][0] = 1\n",
        "        A[i][1] = years[i]\n",
        "    return A\n",
        "    \n",
        "A = get_A(given_year)\n",
        "coef = la.lstsq(A,given_sales,rcond=-1)[0]\n",
        "\n",
        "pred_sales = np.zeros(pred_year.shape)\n",
        "for i in range(pred_year.shape[0]):\n",
        "    pred_sales[i] = coef[0]+coef[1]*pred_year[i]"
      ],
      "metadata": {
        "id": "kqAuKk3sv2dj"
      },
      "execution_count": null,
      "outputs": []
    },
    {
      "cell_type": "code",
      "source": [
        "# Miles Driven vs. Gas Money\n",
        "import numpy as np\n",
        "import numpy.linalg as la\n",
        "n = miles_driven.shape[0]\n",
        "A = np.zeros((n,4))\n",
        "\n",
        "for i in range(n):\n",
        "    x = miles_driven[i]\n",
        "    A[i] = [1, x, (2*(x**2)-1),(4*(x**3)-3*x)]\n",
        "\n",
        "coeffs = la.lstsq(A,gas_money,rcond = -1)[0]"
      ],
      "metadata": {
        "id": "AK3ep2T3yyTK"
      },
      "execution_count": null,
      "outputs": []
    },
    {
      "cell_type": "code",
      "source": [
        "# Modeling Rabbit Population\n",
        "import numpy as np\n",
        "import numpy.linalg as la\n",
        "# ln(fx) = ln(c0)+ln(exp(c1x))=ln(c0)+c1*x\n",
        "population = np.log(population)\n",
        "n = population.shape[0]\n",
        "A = np.zeros((n,2))\n",
        "\n",
        "for i in range(n):\n",
        "    x = i\n",
        "    A[i] = [1, x]\n",
        "\n",
        "coeffs = la.lstsq(A,population,rcond = -1)[0]\n",
        "c0 = np.exp(coeffs[0])\n",
        "c1 = coeffs[1]"
      ],
      "metadata": {
        "id": "LyQrTee30tXn"
      },
      "execution_count": null,
      "outputs": []
    },
    {
      "cell_type": "code",
      "source": [
        "# Find LHS of normal equation\n",
        "t0 = np.array([1,4,5])\n",
        "y0 = np.array([0.74,0.79,1.0])\n",
        "t = sp.symbols(\"t:1\")\n",
        "ts = np.array([sp.sqrt(t[0]), sp.sin(t[0])])\n",
        "get_Normal(ts,t,t0)"
      ],
      "metadata": {
        "colab": {
          "base_uri": "https://localhost:8080/"
        },
        "id": "Y0kQWcp91tIP",
        "outputId": "c5134cbb-1e0c-415a-ad32-78a6c226a2ef"
      },
      "execution_count": null,
      "outputs": [
        {
          "output_type": "stream",
          "name": "stdout",
          "text": [
            "Normal: Mc=n\n",
            "M = AT @ A\n",
            "n = AT @ b\n",
            "M:[[10.         -2.81635387]\n",
            " [-2.81635387  2.2003592 ]]\n",
            "n:[ 4.55606798 -0.93410972]\n"
          ]
        },
        {
          "output_type": "execute_result",
          "data": {
            "text/plain": [
              "(array([[10.        , -2.81635387],\n",
              "        [-2.81635387,  2.2003592 ]]), array([ 4.55606798, -0.93410972]))"
            ]
          },
          "metadata": {},
          "execution_count": 93
        }
      ]
    },
    {
      "cell_type": "code",
      "source": [
        "U = np.array([[-1,0],[0,1]])\n",
        "Sigma = np.array([[2,0],[0,0]])\n",
        "VT = np.array([[np.sqrt(3)/2,1/2],[-1/2,np.sqrt(3)/2]])\n",
        "b = np.array([9,0]).T\n",
        "\n",
        "get_x_SVD(U,Sigma,VT,b)"
      ],
      "metadata": {
        "colab": {
          "base_uri": "https://localhost:8080/"
        },
        "id": "3Wtzc14m3Jj4",
        "outputId": "912ee0ab-0230-4db3-b663-409c77cc079b"
      },
      "execution_count": null,
      "outputs": [
        {
          "output_type": "execute_result",
          "data": {
            "text/plain": [
              "array([-3.89711432, -2.25      ])"
            ]
          },
          "metadata": {},
          "execution_count": 95
        }
      ]
    },
    {
      "cell_type": "code",
      "source": [
        "t0 = np.array([1,5,7])\n",
        "t = sp.symbols(\"t:1\")\n",
        "ts = np.array([sp.sin(t[0]), t[0]**2])\n",
        "y0 = np.array([-2,2,4])\n",
        "get_Normal(ts,t,t0,y0)"
      ],
      "metadata": {
        "colab": {
          "base_uri": "https://localhost:8080/"
        },
        "id": "2EMBWu0vsW1L",
        "outputId": "362aff2e-1c83-475d-dda9-adb4a5ed27d9"
      },
      "execution_count": null,
      "outputs": [
        {
          "output_type": "stream",
          "name": "stdout",
          "text": [
            "Normal: Mc=n\n",
            "M = AT @ A\n",
            "n = AT @ b\n",
            "M:[[2.05924057e+00 9.06070746e+00]\n",
            " [9.06070746e+00 3.02700000e+03]]\n",
            "n:[ -0.97284412 244.        ]\n"
          ]
        },
        {
          "output_type": "execute_result",
          "data": {
            "text/plain": [
              "(array([[2.05924057e+00, 9.06070746e+00],\n",
              "        [9.06070746e+00, 3.02700000e+03]]),\n",
              " array([ -0.97284412, 244.        ]))"
            ]
          },
          "metadata": {},
          "execution_count": 102
        }
      ]
    },
    {
      "cell_type": "code",
      "source": [
        "# Find the Residual\n",
        "U = np.array([[0,1,0,0],[1,0,0,0],[0,0,0,1],[0,0,1,0]])\n",
        "Sigma = np.array([[6,0,0],[0,8,0],[0,0,0],[0,0,0]])\n",
        "VT = np.array([[1/np.sqrt(2),1/np.sqrt(2),0],[1/np.sqrt(2),-1/np.sqrt(2),0],[0,0,1]])\n",
        "b = np.array([4,7,4,3]).T\n",
        "\n",
        "get_residual(U,Sigma,VT,b)"
      ],
      "metadata": {
        "colab": {
          "base_uri": "https://localhost:8080/"
        },
        "id": "6h633vlEQxxA",
        "outputId": "5aa6a52a-d4fe-4c3c-8be1-fc0ba3eeefa1"
      },
      "execution_count": null,
      "outputs": [
        {
          "output_type": "execute_result",
          "data": {
            "text/plain": [
              "5.0"
            ]
          },
          "metadata": {},
          "execution_count": 5
        }
      ]
    }
  ]
}